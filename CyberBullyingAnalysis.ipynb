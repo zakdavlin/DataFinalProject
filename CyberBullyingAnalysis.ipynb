{
 "cells": [
  {
   "cell_type": "markdown",
   "id": "c080bc92-31ea-4910-ba47-37d4bf6fd35d",
   "metadata": {},
   "source": [
    "### Cyber Bullying Prediction using Natural Language Processing and Machine Learning\n",
    "\n",
    "Author: Zak Davlin\n"
   ]
  },
  {
   "cell_type": "code",
   "execution_count": 14,
   "id": "cc3da46f-29b4-4f58-8b0f-1e118aa761f5",
   "metadata": {},
   "outputs": [],
   "source": [
    "#Import needed modules\n",
    "import pandas as pd\n",
    "import numpy as np\n",
    "import csv\n",
    "import spacy\n",
    "from spacytextblob.spacytextblob import SpacyTextBlob\n",
    "import matplotlib.pyplot as plt"
   ]
  },
  {
   "cell_type": "code",
   "execution_count": 2,
   "id": "2e9123b3-9074-4b9b-8fde-2c3135c52dd0",
   "metadata": {},
   "outputs": [
    {
     "data": {
      "text/html": [
       "<div>\n",
       "<style scoped>\n",
       "    .dataframe tbody tr th:only-of-type {\n",
       "        vertical-align: middle;\n",
       "    }\n",
       "\n",
       "    .dataframe tbody tr th {\n",
       "        vertical-align: top;\n",
       "    }\n",
       "\n",
       "    .dataframe thead th {\n",
       "        text-align: right;\n",
       "    }\n",
       "</style>\n",
       "<table border=\"1\" class=\"dataframe\">\n",
       "  <thead>\n",
       "    <tr style=\"text-align: right;\">\n",
       "      <th></th>\n",
       "      <th>tweet_text</th>\n",
       "      <th>cyberbullying_type</th>\n",
       "    </tr>\n",
       "  </thead>\n",
       "  <tbody>\n",
       "    <tr>\n",
       "      <th>0</th>\n",
       "      <td>In other words #katandandre, your food was cra...</td>\n",
       "      <td>not_cyberbullying</td>\n",
       "    </tr>\n",
       "    <tr>\n",
       "      <th>1</th>\n",
       "      <td>Why is #aussietv so white? #MKR #theblock #ImA...</td>\n",
       "      <td>not_cyberbullying</td>\n",
       "    </tr>\n",
       "    <tr>\n",
       "      <th>2</th>\n",
       "      <td>@XochitlSuckkks a classy whore? Or more red ve...</td>\n",
       "      <td>not_cyberbullying</td>\n",
       "    </tr>\n",
       "    <tr>\n",
       "      <th>3</th>\n",
       "      <td>@Jason_Gio meh. :P  thanks for the heads up, b...</td>\n",
       "      <td>not_cyberbullying</td>\n",
       "    </tr>\n",
       "    <tr>\n",
       "      <th>4</th>\n",
       "      <td>@RudhoeEnglish This is an ISIS account pretend...</td>\n",
       "      <td>not_cyberbullying</td>\n",
       "    </tr>\n",
       "  </tbody>\n",
       "</table>\n",
       "</div>"
      ],
      "text/plain": [
       "                                          tweet_text cyberbullying_type\n",
       "0  In other words #katandandre, your food was cra...  not_cyberbullying\n",
       "1  Why is #aussietv so white? #MKR #theblock #ImA...  not_cyberbullying\n",
       "2  @XochitlSuckkks a classy whore? Or more red ve...  not_cyberbullying\n",
       "3  @Jason_Gio meh. :P  thanks for the heads up, b...  not_cyberbullying\n",
       "4  @RudhoeEnglish This is an ISIS account pretend...  not_cyberbullying"
      ]
     },
     "execution_count": 2,
     "metadata": {},
     "output_type": "execute_result"
    }
   ],
   "source": [
    "#Read in CSV file\n",
    "CB=pd.read_csv(\"cyberbullying_tweets[1].csv\", sep=\",\")\n",
    "#First 5 rows\n",
    "CB.head(5)"
   ]
  },
  {
   "cell_type": "code",
   "execution_count": 3,
   "id": "fb386f25-0249-4488-8fdd-c7f414222c23",
   "metadata": {},
   "outputs": [
    {
     "name": "stdout",
     "output_type": "stream",
     "text": [
      "47692 rows in the dataset.\n"
     ]
    },
    {
     "data": {
      "text/plain": [
       "religion               7998\n",
       "age                    7992\n",
       "gender                 7973\n",
       "ethnicity              7961\n",
       "not_cyberbullying      7945\n",
       "other_cyberbullying    7823\n",
       "Name: cyberbullying_type, dtype: int64"
      ]
     },
     "execution_count": 3,
     "metadata": {},
     "output_type": "execute_result"
    }
   ],
   "source": [
    "#How much data do we have?\n",
    "print(len(CB), \"rows in the dataset.\")\n",
    "CB.cyberbullying_type.value_counts()"
   ]
  },
  {
   "cell_type": "code",
   "execution_count": 4,
   "id": "6ee6e0c0-c5d6-4a7d-9c0a-271112fe2a10",
   "metadata": {},
   "outputs": [
    {
     "name": "stdout",
     "output_type": "stream",
     "text": [
      "<class 'pandas.core.frame.DataFrame'>\n",
      "RangeIndex: 47692 entries, 0 to 47691\n",
      "Data columns (total 2 columns):\n",
      " #   Column              Non-Null Count  Dtype \n",
      "---  ------              --------------  ----- \n",
      " 0   tweet_text          47692 non-null  object\n",
      " 1   cyberbullying_type  47692 non-null  object\n",
      "dtypes: object(2)\n",
      "memory usage: 745.3+ KB\n"
     ]
    }
   ],
   "source": [
    "CB.info()"
   ]
  },
  {
   "cell_type": "code",
   "execution_count": 5,
   "id": "320e6d2b-7a74-4b10-a1a2-7045512cca22",
   "metadata": {},
   "outputs": [
    {
     "data": {
      "text/html": [
       "<div>\n",
       "<style scoped>\n",
       "    .dataframe tbody tr th:only-of-type {\n",
       "        vertical-align: middle;\n",
       "    }\n",
       "\n",
       "    .dataframe tbody tr th {\n",
       "        vertical-align: top;\n",
       "    }\n",
       "\n",
       "    .dataframe thead th {\n",
       "        text-align: right;\n",
       "    }\n",
       "</style>\n",
       "<table border=\"1\" class=\"dataframe\">\n",
       "  <thead>\n",
       "    <tr style=\"text-align: right;\">\n",
       "      <th></th>\n",
       "      <th>tweet_text</th>\n",
       "      <th>cyberbullying_type</th>\n",
       "      <th>Clean_Text</th>\n",
       "    </tr>\n",
       "  </thead>\n",
       "  <tbody>\n",
       "    <tr>\n",
       "      <th>0</th>\n",
       "      <td>In other words #katandandre, your food was cra...</td>\n",
       "      <td>not_cyberbullying</td>\n",
       "      <td>In other words #katandandre, your food was cra...</td>\n",
       "    </tr>\n",
       "    <tr>\n",
       "      <th>1</th>\n",
       "      <td>Why is #aussietv so white? #MKR #theblock #ImA...</td>\n",
       "      <td>not_cyberbullying</td>\n",
       "      <td>Why is #aussietv so white? #MKR #theblock #ImA...</td>\n",
       "    </tr>\n",
       "    <tr>\n",
       "      <th>2</th>\n",
       "      <td>@XochitlSuckkks a classy whore? Or more red ve...</td>\n",
       "      <td>not_cyberbullying</td>\n",
       "      <td>@XochitlSuckkks a classy whore? Or more red ve...</td>\n",
       "    </tr>\n",
       "    <tr>\n",
       "      <th>3</th>\n",
       "      <td>@Jason_Gio meh. :P  thanks for the heads up, b...</td>\n",
       "      <td>not_cyberbullying</td>\n",
       "      <td>@Jason_Gio meh. :P  thanks for the heads up, b...</td>\n",
       "    </tr>\n",
       "    <tr>\n",
       "      <th>4</th>\n",
       "      <td>@RudhoeEnglish This is an ISIS account pretend...</td>\n",
       "      <td>not_cyberbullying</td>\n",
       "      <td>@RudhoeEnglish This is an ISIS account pretend...</td>\n",
       "    </tr>\n",
       "  </tbody>\n",
       "</table>\n",
       "</div>"
      ],
      "text/plain": [
       "                                          tweet_text cyberbullying_type  \\\n",
       "0  In other words #katandandre, your food was cra...  not_cyberbullying   \n",
       "1  Why is #aussietv so white? #MKR #theblock #ImA...  not_cyberbullying   \n",
       "2  @XochitlSuckkks a classy whore? Or more red ve...  not_cyberbullying   \n",
       "3  @Jason_Gio meh. :P  thanks for the heads up, b...  not_cyberbullying   \n",
       "4  @RudhoeEnglish This is an ISIS account pretend...  not_cyberbullying   \n",
       "\n",
       "                                          Clean_Text  \n",
       "0  In other words #katandandre, your food was cra...  \n",
       "1  Why is #aussietv so white? #MKR #theblock #ImA...  \n",
       "2  @XochitlSuckkks a classy whore? Or more red ve...  \n",
       "3  @Jason_Gio meh. :P  thanks for the heads up, b...  \n",
       "4  @RudhoeEnglish This is an ISIS account pretend...  "
      ]
     },
     "execution_count": 5,
     "metadata": {},
     "output_type": "execute_result"
    }
   ],
   "source": [
    "#Add a column to clean text\n",
    "CB['Clean_Text'] = CB.loc[:,'tweet_text']\n",
    "CB.head(5)"
   ]
  },
  {
   "cell_type": "code",
   "execution_count": 6,
   "id": "55543c46-e80d-4c23-9d34-946a117dcadc",
   "metadata": {},
   "outputs": [
    {
     "name": "stdout",
     "output_type": "stream",
     "text": [
      "                                          tweet_text cyberbullying_type  \\\n",
      "0  In other words #katandandre, your food was cra...  not_cyberbullying   \n",
      "1  Why is #aussietv so white? #MKR #theblock #ImA...  not_cyberbullying   \n",
      "2  @XochitlSuckkks a classy whore? Or more red ve...  not_cyberbullying   \n",
      "3  @Jason_Gio meh. :P  thanks for the heads up, b...  not_cyberbullying   \n",
      "4  @RudhoeEnglish This is an ISIS account pretend...  not_cyberbullying   \n",
      "\n",
      "                                          Clean_Text  \n",
      "0  In other words katandandre, your food was crap...  \n",
      "1  Why is aussietv so white? MKR theblock ImACele...  \n",
      "2       a classy whore? Or more red velvet cupcakes?  \n",
      "3  meh. :P thanks for the heads up, but not too c...  \n",
      "4  This is an ISIS account pretending to be a Kur...  \n",
      "<class 'pandas.core.frame.DataFrame'>\n",
      "RangeIndex: 47692 entries, 0 to 47691\n",
      "Data columns (total 3 columns):\n",
      " #   Column              Non-Null Count  Dtype \n",
      "---  ------              --------------  ----- \n",
      " 0   tweet_text          47692 non-null  object\n",
      " 1   cyberbullying_type  47692 non-null  object\n",
      " 2   Clean_Text          47692 non-null  object\n",
      "dtypes: object(3)\n",
      "memory usage: 1.1+ MB\n",
      "None\n"
     ]
    }
   ],
   "source": [
    "#Clean Text in the clean text column\n",
    "#Remove duplicates if any\n",
    "CB.drop_duplicates(subset=['tweet_text'])\n",
    "#Replace popular abbreviations\n",
    "CB[\"Clean_Text\"] = CB[\"Clean_Text\"].str.replace(\" r \",\" are \")\n",
    "CB[\"Clean_Text\"] = CB[\"Clean_Text\"].str.replace(\" n \",\" in \")\n",
    "CB[\"Clean_Text\"] = CB[\"Clean_Text\"].str.replace(\" ur \",\" you're \")\n",
    "CB[\"Clean_Text\"] = CB[\"Clean_Text\"].str.replace(\" u \",\" you \")\n",
    "CB[\"Clean_Text\"] = CB[\"Clean_Text\"].str.replace(\"#\",\"\")\n",
    "#Create a function to remove all @name as they do not pertain to the statements and are random user names\n",
    "\n",
    "def Tweet_username_removal(x):\n",
    "    x=x.split()\n",
    "    x_new=[x for x in x if not x.startswith(\"@\")]\n",
    "    return ' '.join(x_new)\n",
    "CB[\"Clean_Text\"] = CB[\"Clean_Text\"].apply(Tweet_username_removal)\n",
    "print(CB.head(5))\n",
    "print(CB.info())"
   ]
  },
  {
   "cell_type": "markdown",
   "id": "ddf63397-09fb-4fe2-beac-550aa42c297a",
   "metadata": {},
   "source": [
    "Looks like we have no duplicates!"
   ]
  },
  {
   "cell_type": "code",
   "execution_count": 17,
   "id": "2320fc97-bd24-45ff-8fd7-40610a734b36",
   "metadata": {},
   "outputs": [],
   "source": [
    "#Use text blob to add sentiment analysis \n",
    "from textblob import TextBlob\n",
    "polarity_Subjectivity_scores=[]\n",
    "#add blank columns to CB data frame\n",
    "for text in CB['Clean_Text']:\n",
    "    analysis = TextBlob(text)\n",
    "    polarity_Subjectivity_scores.append((analysis.sentiment.polarity, analysis.sentiment.subjectivity))\n",
    "SentimentDF=pd.DataFrame(polarity_Subjectivity_scores, columns=['Polarity','Subjectivity'])"
   ]
  },
  {
   "cell_type": "code",
   "execution_count": 18,
   "id": "cddd4adf-6590-44af-afd9-1a58ba85f8b9",
   "metadata": {},
   "outputs": [
    {
     "data": {
      "text/html": [
       "<div>\n",
       "<style scoped>\n",
       "    .dataframe tbody tr th:only-of-type {\n",
       "        vertical-align: middle;\n",
       "    }\n",
       "\n",
       "    .dataframe tbody tr th {\n",
       "        vertical-align: top;\n",
       "    }\n",
       "\n",
       "    .dataframe thead th {\n",
       "        text-align: right;\n",
       "    }\n",
       "</style>\n",
       "<table border=\"1\" class=\"dataframe\">\n",
       "  <thead>\n",
       "    <tr style=\"text-align: right;\">\n",
       "      <th></th>\n",
       "      <th>tweet_text</th>\n",
       "      <th>cyberbullying_type</th>\n",
       "      <th>Clean_Text</th>\n",
       "      <th>Polarity</th>\n",
       "      <th>Subjectivity</th>\n",
       "    </tr>\n",
       "  </thead>\n",
       "  <tbody>\n",
       "    <tr>\n",
       "      <th>0</th>\n",
       "      <td>In other words #katandandre, your food was cra...</td>\n",
       "      <td>not_cyberbullying</td>\n",
       "      <td>In other words katandandre, your food was crap...</td>\n",
       "      <td>-0.15625</td>\n",
       "      <td>0.375000</td>\n",
       "    </tr>\n",
       "    <tr>\n",
       "      <th>1</th>\n",
       "      <td>Why is #aussietv so white? #MKR #theblock #ImA...</td>\n",
       "      <td>not_cyberbullying</td>\n",
       "      <td>Why is aussietv so white? MKR theblock ImACele...</td>\n",
       "      <td>0.00000</td>\n",
       "      <td>0.000000</td>\n",
       "    </tr>\n",
       "    <tr>\n",
       "      <th>2</th>\n",
       "      <td>@XochitlSuckkks a classy whore? Or more red ve...</td>\n",
       "      <td>not_cyberbullying</td>\n",
       "      <td>a classy whore? Or more red velvet cupcakes?</td>\n",
       "      <td>0.20000</td>\n",
       "      <td>0.466667</td>\n",
       "    </tr>\n",
       "    <tr>\n",
       "      <th>3</th>\n",
       "      <td>@Jason_Gio meh. :P  thanks for the heads up, b...</td>\n",
       "      <td>not_cyberbullying</td>\n",
       "      <td>meh. :P thanks for the heads up, but not too c...</td>\n",
       "      <td>0.15000</td>\n",
       "      <td>0.733333</td>\n",
       "    </tr>\n",
       "    <tr>\n",
       "      <th>4</th>\n",
       "      <td>@RudhoeEnglish This is an ISIS account pretend...</td>\n",
       "      <td>not_cyberbullying</td>\n",
       "      <td>This is an ISIS account pretending to be a Kur...</td>\n",
       "      <td>0.00000</td>\n",
       "      <td>0.000000</td>\n",
       "    </tr>\n",
       "  </tbody>\n",
       "</table>\n",
       "</div>"
      ],
      "text/plain": [
       "                                          tweet_text cyberbullying_type  \\\n",
       "0  In other words #katandandre, your food was cra...  not_cyberbullying   \n",
       "1  Why is #aussietv so white? #MKR #theblock #ImA...  not_cyberbullying   \n",
       "2  @XochitlSuckkks a classy whore? Or more red ve...  not_cyberbullying   \n",
       "3  @Jason_Gio meh. :P  thanks for the heads up, b...  not_cyberbullying   \n",
       "4  @RudhoeEnglish This is an ISIS account pretend...  not_cyberbullying   \n",
       "\n",
       "                                          Clean_Text  Polarity  Subjectivity  \n",
       "0  In other words katandandre, your food was crap...  -0.15625      0.375000  \n",
       "1  Why is aussietv so white? MKR theblock ImACele...   0.00000      0.000000  \n",
       "2       a classy whore? Or more red velvet cupcakes?   0.20000      0.466667  \n",
       "3  meh. :P thanks for the heads up, but not too c...   0.15000      0.733333  \n",
       "4  This is an ISIS account pretending to be a Kur...   0.00000      0.000000  "
      ]
     },
     "execution_count": 18,
     "metadata": {},
     "output_type": "execute_result"
    }
   ],
   "source": [
    "CBFD=pd.merge(CB, SentimentDF,left_index=True, right_index=True)\n",
    "CBFD.head(5)"
   ]
  },
  {
   "cell_type": "code",
   "execution_count": 19,
   "id": "9423c20a-6d2a-4b5d-9947-7356eecbe2a7",
   "metadata": {},
   "outputs": [
    {
     "name": "stdout",
     "output_type": "stream",
     "text": [
      "<class 'pandas.core.frame.DataFrame'>\n",
      "RangeIndex: 47692 entries, 0 to 47691\n",
      "Data columns (total 5 columns):\n",
      " #   Column              Non-Null Count  Dtype  \n",
      "---  ------              --------------  -----  \n",
      " 0   tweet_text          47692 non-null  object \n",
      " 1   cyberbullying_type  47692 non-null  object \n",
      " 2   Clean_Text          47692 non-null  object \n",
      " 3   Polarity            47692 non-null  float64\n",
      " 4   Subjectivity        47692 non-null  float64\n",
      "dtypes: float64(2), object(3)\n",
      "memory usage: 1.8+ MB\n"
     ]
    }
   ],
   "source": [
    "CBFD.info()"
   ]
  },
  {
   "cell_type": "code",
   "execution_count": 20,
   "id": "7c51a53b-b3bb-43ae-88c4-5de73a0357b1",
   "metadata": {},
   "outputs": [
    {
     "data": {
      "text/html": [
       "<div>\n",
       "<style scoped>\n",
       "    .dataframe tbody tr th:only-of-type {\n",
       "        vertical-align: middle;\n",
       "    }\n",
       "\n",
       "    .dataframe tbody tr th {\n",
       "        vertical-align: top;\n",
       "    }\n",
       "\n",
       "    .dataframe thead th {\n",
       "        text-align: right;\n",
       "    }\n",
       "</style>\n",
       "<table border=\"1\" class=\"dataframe\">\n",
       "  <thead>\n",
       "    <tr style=\"text-align: right;\">\n",
       "      <th></th>\n",
       "      <th>Polarity</th>\n",
       "      <th>Subjectivity</th>\n",
       "    </tr>\n",
       "  </thead>\n",
       "  <tbody>\n",
       "    <tr>\n",
       "      <th>count</th>\n",
       "      <td>47692.000000</td>\n",
       "      <td>47692.000000</td>\n",
       "    </tr>\n",
       "    <tr>\n",
       "      <th>mean</th>\n",
       "      <td>-0.027008</td>\n",
       "      <td>0.459429</td>\n",
       "    </tr>\n",
       "    <tr>\n",
       "      <th>std</th>\n",
       "      <td>0.324468</td>\n",
       "      <td>0.287653</td>\n",
       "    </tr>\n",
       "    <tr>\n",
       "      <th>min</th>\n",
       "      <td>-1.000000</td>\n",
       "      <td>0.000000</td>\n",
       "    </tr>\n",
       "    <tr>\n",
       "      <th>25%</th>\n",
       "      <td>-0.191667</td>\n",
       "      <td>0.267857</td>\n",
       "    </tr>\n",
       "    <tr>\n",
       "      <th>50%</th>\n",
       "      <td>0.000000</td>\n",
       "      <td>0.500000</td>\n",
       "    </tr>\n",
       "    <tr>\n",
       "      <th>75%</th>\n",
       "      <td>0.158417</td>\n",
       "      <td>0.650000</td>\n",
       "    </tr>\n",
       "    <tr>\n",
       "      <th>max</th>\n",
       "      <td>1.000000</td>\n",
       "      <td>1.000000</td>\n",
       "    </tr>\n",
       "  </tbody>\n",
       "</table>\n",
       "</div>"
      ],
      "text/plain": [
       "           Polarity  Subjectivity\n",
       "count  47692.000000  47692.000000\n",
       "mean      -0.027008      0.459429\n",
       "std        0.324468      0.287653\n",
       "min       -1.000000      0.000000\n",
       "25%       -0.191667      0.267857\n",
       "50%        0.000000      0.500000\n",
       "75%        0.158417      0.650000\n",
       "max        1.000000      1.000000"
      ]
     },
     "execution_count": 20,
     "metadata": {},
     "output_type": "execute_result"
    }
   ],
   "source": [
    "CBFD.describe()"
   ]
  },
  {
   "cell_type": "code",
   "execution_count": 24,
   "id": "7385a87a-540c-4d69-abc8-5abe9a5573e8",
   "metadata": {},
   "outputs": [
    {
     "data": {
      "text/plain": [
       "<matplotlib.collections.PathCollection at 0x164fbe7ef70>"
      ]
     },
     "execution_count": 24,
     "metadata": {},
     "output_type": "execute_result"
    },
    {
     "data": {
      "image/png": "[encoded data removed]",
      "text/plain": [
       "<Figure size 640x480 with 1 Axes>"
      ]
     },
     "metadata": {},
     "output_type": "display_data"
    }
   ],
   "source": [
    "plt.scatter(CBFD['Subjectivity'],CBFD['Polarity'])"
   ]
  },
  {
   "cell_type": "code",
   "execution_count": 25,
   "id": "ef798930-e7a0-40e1-a031-06b4d2d999e9",
   "metadata": {},
   "outputs": [
    {
     "data": {
      "text/plain": [
       "(array([  631.,  1987.,  2895.,  6230.,  7368., 19204.,  5373.,  2911.,\n",
       "          575.,   518.]),\n",
       " array([-1. , -0.8, -0.6, -0.4, -0.2,  0. ,  0.2,  0.4,  0.6,  0.8,  1. ]),\n",
       " <BarContainer object of 10 artists>)"
      ]
     },
     "execution_count": 25,
     "metadata": {},
     "output_type": "execute_result"
    },
    {
     "data": {
      "image/png": "[encoded data removed]",
      "text/plain": [
       "<Figure size 640x480 with 1 Axes>"
      ]
     },
     "metadata": {},
     "output_type": "display_data"
    }
   ],
   "source": [
    "plt.hist(CBFD['Polarity'])"
   ]
  },
  {
   "cell_type": "code",
   "execution_count": 27,
   "id": "0ed9b0b9-c438-490f-94ce-d00d9eea2749",
   "metadata": {},
   "outputs": [
    {
     "data": {
      "text/plain": [
       "(array([ 8806.,  1362.,  2937.,  3970.,  5174., 10795.,  5591.,  3307.,\n",
       "         2308.,  3442.]),\n",
       " array([0. , 0.1, 0.2, 0.3, 0.4, 0.5, 0.6, 0.7, 0.8, 0.9, 1. ]),\n",
       " <BarContainer object of 10 artists>)"
      ]
     },
     "execution_count": 27,
     "metadata": {},
     "output_type": "execute_result"
    },
    {
     "data": {
      "image/png": "[encoded data removed]",
      "text/plain": [
       "<Figure size 640x480 with 1 Axes>"
      ]
     },
     "metadata": {},
     "output_type": "display_data"
    }
   ],
   "source": [
    "plt.hist(CBFD['Subjectivity'])"
   ]
  },
  {
   "cell_type": "code",
   "execution_count": 29,
   "id": "c2d751dc-e3ce-419c-bf51-3c2322a2291c",
   "metadata": {},
   "outputs": [
    {
     "data": {
      "text/plain": [
       "(array([  528.,  1756.,  2576.,  5762.,  6743., 14799.,  4603.,  2295.,\n",
       "          378.,   307.]),\n",
       " array([-1. , -0.8, -0.6, -0.4, -0.2,  0. ,  0.2,  0.4,  0.6,  0.8,  1. ]),\n",
       " <BarContainer object of 10 artists>)"
      ]
     },
     "execution_count": 31,
     "metadata": {},
     "output_type": "execute_result"
    },
    {
     "data": {
      "image/png": "[encoded data removed]",
      "text/plain": [
       "<Figure size 640x480 with 1 Axes>"
      ]
     },
     "metadata": {},
     "output_type": "display_data"
    }
   ],
   "source": [
    "CBFDFilter = CBFD[CBFD['cyberbullying_type']!='not_cyberbullying']\n",
    "plt.hist(CBFDFilter['Polarity'])"
   ]
  },
  {
   "cell_type": "code",
   "execution_count": 33,
   "id": "2271297c-7a1a-466c-9ba5-35df0efd4301",
   "metadata": {},
   "outputs": [
    {
     "data": {
      "text/plain": [
       "(array([  528.,  1756.,  2576.,  5762.,  6743., 14799.,  4603.,  2295.,\n",
       "          378.,   307.]),\n",
       " array([-1. , -0.8, -0.6, -0.4, -0.2,  0. ,  0.2,  0.4,  0.6,  0.8,  1. ]),\n",
       " <BarContainer object of 10 artists>)"
      ]
     },
     "execution_count": 33,
     "metadata": {},
     "output_type": "execute_result"
    },
    {
     "data": {
      "image/png": "[encoded data removed]",
      "text/plain": [
       "<Figure size 640x480 with 1 Axes>"
      ]
     },
     "metadata": {},
     "output_type": "display_data"
    }
   ],
   "source": [
    "plt.hist(CBFD['Polarity'])\n",
    "plt.hist(CBFDFilter['Polarity'])"
   ]
  },
  {
   "cell_type": "code",
   "execution_count": 34,
   "id": "b2d65abf-b91d-4f4c-b157-89a4717a0675",
   "metadata": {},
   "outputs": [
    {
     "data": {
      "text/plain": [
       "(array([5593., 1110., 2468., 3623., 4715., 9838., 4954., 2991., 1954.,\n",
       "        2501.]),\n",
       " array([0. , 0.1, 0.2, 0.3, 0.4, 0.5, 0.6, 0.7, 0.8, 0.9, 1. ]),\n",
       " <BarContainer object of 10 artists>)"
      ]
     },
     "execution_count": 34,
     "metadata": {},
     "output_type": "execute_result"
    },
    {
     "data": {
      "image/png": "[encoded data removed]",
      "text/plain": [
       "<Figure size 640x480 with 1 Axes>"
      ]
     },
     "metadata": {},
     "output_type": "display_data"
    }
   ],
   "source": [
    "plt.hist(CBFD['Subjectivity'])\n",
    "plt.hist(CBFDFilter['Subjectivity'])"
   ]
  },
  {
   "cell_type": "code",
   "execution_count": null,
   "id": "1acf6e69-c91d-4a8b-a371-7fa0bf06f2d4",
   "metadata": {},
   "outputs": [],
   "source": []
  }
 ],
 "metadata": {
  "kernelspec": {
   "display_name": "Python 3 (ipykernel)",
   "language": "python",
   "name": "python3"
  },
  "language_info": {
   "codemirror_mode": {
    "name": "ipython",
    "version": 3
   },
   "file_extension": ".py",
   "mimetype": "text/x-python",
   "name": "python",
   "nbconvert_exporter": "python",
   "pygments_lexer": "ipython3",
   "version": "3.9.16"
  }
 },
 "nbformat": 4,
 "nbformat_minor": 5
}
