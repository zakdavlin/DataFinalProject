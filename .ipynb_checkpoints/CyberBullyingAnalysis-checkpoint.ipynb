{
 "cells": [
  {
   "cell_type": "markdown",
   "id": "c080bc92-31ea-4910-ba47-37d4bf6fd35d",
   "metadata": {},
   "source": [
    "# Cyber Bullying Prediction using Natural Language Processing and Machine Learning\n",
    "\n",
    "Author: Zak Davlin\n"
   ]
  },
  {
   "cell_type": "markdown",
   "id": "ee52195d-b090-4a1f-a794-6228b03b3870",
   "metadata": {
    "tags": []
   },
   "source": [
    "### Intial Imports and File Read in"
   ]
  },
  {
   "cell_type": "code",
   "execution_count": 1,
   "id": "cc3da46f-29b4-4f58-8b0f-1e118aa761f5",
   "metadata": {},
   "outputs": [],
   "source": [
    "#Import needed modules\n",
    "import pandas as pd\n",
    "import numpy as np\n",
    "import csv\n",
    "import spacy\n",
    "from spacytextblob.spacytextblob import SpacyTextBlob\n",
    "import matplotlib.pyplot as plt\n",
    "from sklearn.model_selection import train_test_split\n",
    "from sklearn.naive_bayes import MultinomialNB\n",
    "from sklearn.feature_extraction import text\n",
    "from sklearn.feature_extraction.text import CountVectorizer, TfidfTransformer\n",
    "from sklearn.metrics import accuracy_score\n",
    "from sklearn.metrics import f1_score\n",
    "from sklearn.metrics import classification_report , confusion_matrix\n",
    "from sklearn.pipeline import Pipeline\n",
    "from sklearn.linear_model import SGDClassifier\n",
    "from sklearn.ensemble import VotingClassifier\n",
    "from sklearn.tree import DecisionTreeClassifier\n",
    "from sklearn.svm import SVC\n",
    "from spacy.lang.en import English\n",
    "from sklearn.base import TransformerMixin, BaseEstimator\n",
    "from sklearn.ensemble import RandomForestClassifier\n",
    "from sklearn.neural_network import MLPClassifier"
   ]
  },
  {
   "cell_type": "code",
   "execution_count": 2,
   "id": "2e9123b3-9074-4b9b-8fde-2c3135c52dd0",
   "metadata": {},
   "outputs": [
    {
     "data": {
      "text/html": [
       "<div>\n",
       "<style scoped>\n",
       "    .dataframe tbody tr th:only-of-type {\n",
       "        vertical-align: middle;\n",
       "    }\n",
       "\n",
       "    .dataframe tbody tr th {\n",
       "        vertical-align: top;\n",
       "    }\n",
       "\n",
       "    .dataframe thead th {\n",
       "        text-align: right;\n",
       "    }\n",
       "</style>\n",
       "<table border=\"1\" class=\"dataframe\">\n",
       "  <thead>\n",
       "    <tr style=\"text-align: right;\">\n",
       "      <th></th>\n",
       "      <th>tweet_text</th>\n",
       "      <th>cyberbullying_type</th>\n",
       "    </tr>\n",
       "  </thead>\n",
       "  <tbody>\n",
       "    <tr>\n",
       "      <th>0</th>\n",
       "      <td>In other words #katandandre, your food was cra...</td>\n",
       "      <td>not_cyberbullying</td>\n",
       "    </tr>\n",
       "    <tr>\n",
       "      <th>1</th>\n",
       "      <td>Why is #aussietv so white? #MKR #theblock #ImA...</td>\n",
       "      <td>not_cyberbullying</td>\n",
       "    </tr>\n",
       "    <tr>\n",
       "      <th>2</th>\n",
       "      <td>@XochitlSuckkks a classy whore? Or more red ve...</td>\n",
       "      <td>not_cyberbullying</td>\n",
       "    </tr>\n",
       "    <tr>\n",
       "      <th>3</th>\n",
       "      <td>@Jason_Gio meh. :P  thanks for the heads up, b...</td>\n",
       "      <td>not_cyberbullying</td>\n",
       "    </tr>\n",
       "    <tr>\n",
       "      <th>4</th>\n",
       "      <td>@RudhoeEnglish This is an ISIS account pretend...</td>\n",
       "      <td>not_cyberbullying</td>\n",
       "    </tr>\n",
       "  </tbody>\n",
       "</table>\n",
       "</div>"
      ],
      "text/plain": [
       "                                          tweet_text cyberbullying_type\n",
       "0  In other words #katandandre, your food was cra...  not_cyberbullying\n",
       "1  Why is #aussietv so white? #MKR #theblock #ImA...  not_cyberbullying\n",
       "2  @XochitlSuckkks a classy whore? Or more red ve...  not_cyberbullying\n",
       "3  @Jason_Gio meh. :P  thanks for the heads up, b...  not_cyberbullying\n",
       "4  @RudhoeEnglish This is an ISIS account pretend...  not_cyberbullying"
      ]
     },
     "execution_count": 2,
     "metadata": {},
     "output_type": "execute_result"
    }
   ],
   "source": [
    "#Read in CSV file\n",
    "CB=pd.read_csv(\"cyberbullying_tweets[1].csv\", sep=\",\")\n",
    "#First 5 rows\n",
    "CB.head(5)"
   ]
  },
  {
   "cell_type": "markdown",
   "id": "64a79caa-a37f-4590-8949-b6a69576ca88",
   "metadata": {},
   "source": [
    "### Data Clean up"
   ]
  },
  {
   "cell_type": "code",
   "execution_count": 3,
   "id": "fb386f25-0249-4488-8fdd-c7f414222c23",
   "metadata": {},
   "outputs": [
    {
     "name": "stdout",
     "output_type": "stream",
     "text": [
      "47692 rows in the dataset.\n"
     ]
    },
    {
     "data": {
      "text/plain": [
       "religion               7998\n",
       "age                    7992\n",
       "gender                 7973\n",
       "ethnicity              7961\n",
       "not_cyberbullying      7945\n",
       "other_cyberbullying    7823\n",
       "Name: cyberbullying_type, dtype: int64"
      ]
     },
     "execution_count": 3,
     "metadata": {},
     "output_type": "execute_result"
    }
   ],
   "source": [
    "#How much data do we have?\n",
    "print(len(CB), \"rows in the dataset.\")\n",
    "CB.cyberbullying_type.value_counts()"
   ]
  },
  {
   "cell_type": "code",
   "execution_count": 4,
   "id": "6ee6e0c0-c5d6-4a7d-9c0a-271112fe2a10",
   "metadata": {},
   "outputs": [
    {
     "name": "stdout",
     "output_type": "stream",
     "text": [
      "<class 'pandas.core.frame.DataFrame'>\n",
      "RangeIndex: 47692 entries, 0 to 47691\n",
      "Data columns (total 2 columns):\n",
      " #   Column              Non-Null Count  Dtype \n",
      "---  ------              --------------  ----- \n",
      " 0   tweet_text          47692 non-null  object\n",
      " 1   cyberbullying_type  47692 non-null  object\n",
      "dtypes: object(2)\n",
      "memory usage: 745.3+ KB\n"
     ]
    }
   ],
   "source": [
    "CB.info()"
   ]
  },
  {
   "cell_type": "code",
   "execution_count": 5,
   "id": "320e6d2b-7a74-4b10-a1a2-7045512cca22",
   "metadata": {},
   "outputs": [
    {
     "data": {
      "text/html": [
       "<div>\n",
       "<style scoped>\n",
       "    .dataframe tbody tr th:only-of-type {\n",
       "        vertical-align: middle;\n",
       "    }\n",
       "\n",
       "    .dataframe tbody tr th {\n",
       "        vertical-align: top;\n",
       "    }\n",
       "\n",
       "    .dataframe thead th {\n",
       "        text-align: right;\n",
       "    }\n",
       "</style>\n",
       "<table border=\"1\" class=\"dataframe\">\n",
       "  <thead>\n",
       "    <tr style=\"text-align: right;\">\n",
       "      <th></th>\n",
       "      <th>tweet_text</th>\n",
       "      <th>cyberbullying_type</th>\n",
       "      <th>Clean_Text</th>\n",
       "    </tr>\n",
       "  </thead>\n",
       "  <tbody>\n",
       "    <tr>\n",
       "      <th>0</th>\n",
       "      <td>In other words #katandandre, your food was cra...</td>\n",
       "      <td>not_cyberbullying</td>\n",
       "      <td>In other words #katandandre, your food was cra...</td>\n",
       "    </tr>\n",
       "    <tr>\n",
       "      <th>1</th>\n",
       "      <td>Why is #aussietv so white? #MKR #theblock #ImA...</td>\n",
       "      <td>not_cyberbullying</td>\n",
       "      <td>Why is #aussietv so white? #MKR #theblock #ImA...</td>\n",
       "    </tr>\n",
       "    <tr>\n",
       "      <th>2</th>\n",
       "      <td>@XochitlSuckkks a classy whore? Or more red ve...</td>\n",
       "      <td>not_cyberbullying</td>\n",
       "      <td>@XochitlSuckkks a classy whore? Or more red ve...</td>\n",
       "    </tr>\n",
       "    <tr>\n",
       "      <th>3</th>\n",
       "      <td>@Jason_Gio meh. :P  thanks for the heads up, b...</td>\n",
       "      <td>not_cyberbullying</td>\n",
       "      <td>@Jason_Gio meh. :P  thanks for the heads up, b...</td>\n",
       "    </tr>\n",
       "    <tr>\n",
       "      <th>4</th>\n",
       "      <td>@RudhoeEnglish This is an ISIS account pretend...</td>\n",
       "      <td>not_cyberbullying</td>\n",
       "      <td>@RudhoeEnglish This is an ISIS account pretend...</td>\n",
       "    </tr>\n",
       "  </tbody>\n",
       "</table>\n",
       "</div>"
      ],
      "text/plain": [
       "                                          tweet_text cyberbullying_type  \\\n",
       "0  In other words #katandandre, your food was cra...  not_cyberbullying   \n",
       "1  Why is #aussietv so white? #MKR #theblock #ImA...  not_cyberbullying   \n",
       "2  @XochitlSuckkks a classy whore? Or more red ve...  not_cyberbullying   \n",
       "3  @Jason_Gio meh. :P  thanks for the heads up, b...  not_cyberbullying   \n",
       "4  @RudhoeEnglish This is an ISIS account pretend...  not_cyberbullying   \n",
       "\n",
       "                                          Clean_Text  \n",
       "0  In other words #katandandre, your food was cra...  \n",
       "1  Why is #aussietv so white? #MKR #theblock #ImA...  \n",
       "2  @XochitlSuckkks a classy whore? Or more red ve...  \n",
       "3  @Jason_Gio meh. :P  thanks for the heads up, b...  \n",
       "4  @RudhoeEnglish This is an ISIS account pretend...  "
      ]
     },
     "execution_count": 5,
     "metadata": {},
     "output_type": "execute_result"
    }
   ],
   "source": [
    "#Add a column to clean text\n",
    "CB['Clean_Text'] = CB.loc[:,'tweet_text']\n",
    "CB.head(5)"
   ]
  },
  {
   "cell_type": "code",
   "execution_count": 6,
   "id": "55543c46-e80d-4c23-9d34-946a117dcadc",
   "metadata": {},
   "outputs": [
    {
     "name": "stdout",
     "output_type": "stream",
     "text": [
      "<class 'pandas.core.frame.DataFrame'>\n",
      "RangeIndex: 47692 entries, 0 to 47691\n",
      "Data columns (total 3 columns):\n",
      " #   Column              Non-Null Count  Dtype \n",
      "---  ------              --------------  ----- \n",
      " 0   tweet_text          47692 non-null  object\n",
      " 1   cyberbullying_type  47692 non-null  object\n",
      " 2   Clean_Text          47692 non-null  object\n",
      "dtypes: object(3)\n",
      "memory usage: 1.1+ MB\n",
      "None\n"
     ]
    },
    {
     "data": {
      "text/html": [
       "<div>\n",
       "<style scoped>\n",
       "    .dataframe tbody tr th:only-of-type {\n",
       "        vertical-align: middle;\n",
       "    }\n",
       "\n",
       "    .dataframe tbody tr th {\n",
       "        vertical-align: top;\n",
       "    }\n",
       "\n",
       "    .dataframe thead th {\n",
       "        text-align: right;\n",
       "    }\n",
       "</style>\n",
       "<table border=\"1\" class=\"dataframe\">\n",
       "  <thead>\n",
       "    <tr style=\"text-align: right;\">\n",
       "      <th></th>\n",
       "      <th>tweet_text</th>\n",
       "      <th>cyberbullying_type</th>\n",
       "      <th>Clean_Text</th>\n",
       "    </tr>\n",
       "  </thead>\n",
       "  <tbody>\n",
       "    <tr>\n",
       "      <th>0</th>\n",
       "      <td>In other words #katandandre, your food was cra...</td>\n",
       "      <td>not_cyberbullying</td>\n",
       "      <td>In words katandandre, food crapilicious! mkr</td>\n",
       "    </tr>\n",
       "    <tr>\n",
       "      <th>1</th>\n",
       "      <td>Why is #aussietv so white? #MKR #theblock #ImA...</td>\n",
       "      <td>not_cyberbullying</td>\n",
       "      <td>Why aussietv white? MKR theblock ImACelebrityA...</td>\n",
       "    </tr>\n",
       "    <tr>\n",
       "      <th>2</th>\n",
       "      <td>@XochitlSuckkks a classy whore? Or more red ve...</td>\n",
       "      <td>not_cyberbullying</td>\n",
       "      <td>classy whore? Or red velvet cupcakes?</td>\n",
       "    </tr>\n",
       "    <tr>\n",
       "      <th>3</th>\n",
       "      <td>@Jason_Gio meh. :P  thanks for the heads up, b...</td>\n",
       "      <td>not_cyberbullying</td>\n",
       "      <td>meh. :P thanks heads up, concerned angry dude ...</td>\n",
       "    </tr>\n",
       "    <tr>\n",
       "      <th>4</th>\n",
       "      <td>@RudhoeEnglish This is an ISIS account pretend...</td>\n",
       "      <td>not_cyberbullying</td>\n",
       "      <td>This ISIS account pretending Kurdish account. ...</td>\n",
       "    </tr>\n",
       "  </tbody>\n",
       "</table>\n",
       "</div>"
      ],
      "text/plain": [
       "                                          tweet_text cyberbullying_type  \\\n",
       "0  In other words #katandandre, your food was cra...  not_cyberbullying   \n",
       "1  Why is #aussietv so white? #MKR #theblock #ImA...  not_cyberbullying   \n",
       "2  @XochitlSuckkks a classy whore? Or more red ve...  not_cyberbullying   \n",
       "3  @Jason_Gio meh. :P  thanks for the heads up, b...  not_cyberbullying   \n",
       "4  @RudhoeEnglish This is an ISIS account pretend...  not_cyberbullying   \n",
       "\n",
       "                                          Clean_Text  \n",
       "0       In words katandandre, food crapilicious! mkr  \n",
       "1  Why aussietv white? MKR theblock ImACelebrityA...  \n",
       "2              classy whore? Or red velvet cupcakes?  \n",
       "3  meh. :P thanks heads up, concerned angry dude ...  \n",
       "4  This ISIS account pretending Kurdish account. ...  "
      ]
     },
     "execution_count": 6,
     "metadata": {},
     "output_type": "execute_result"
    }
   ],
   "source": [
    "#Clean Text in the clean text column\n",
    "#Remove duplicates if any\n",
    "CB.drop_duplicates(subset=['tweet_text'])\n",
    "#Replace popular abbreviations\n",
    "CB[\"Clean_Text\"] = CB[\"Clean_Text\"].str.replace(\" r \",\" are \")\n",
    "CB[\"Clean_Text\"] = CB[\"Clean_Text\"].str.replace(\" n \",\" in \")\n",
    "CB[\"Clean_Text\"] = CB[\"Clean_Text\"].str.replace(\" ur \",\" you're \")\n",
    "CB[\"Clean_Text\"] = CB[\"Clean_Text\"].str.replace(\" u \",\" you \")\n",
    "CB[\"Clean_Text\"] = CB[\"Clean_Text\"].str.replace(\"#\",\"\")\n",
    "#Create a function to remove all @name as they do not pertain to the statements and are random user names\n",
    "def Tweet_username_removal(x):\n",
    "    x=x.split()\n",
    "    x_new=[x for x in x if not x.startswith(\"@\")]\n",
    "    return ' '.join(x_new)\n",
    "CB[\"Clean_Text\"] = CB[\"Clean_Text\"].apply(Tweet_username_removal)\n",
    "nlp=English()\n",
    "stop_words = nlp.Defaults.stop_words\n",
    "def stopword_removal(x):\n",
    "    x=x.split()\n",
    "    x_new=[x for x in x if x not in stop_words]\n",
    "    return ' '.join(x_new)\n",
    "CB[\"Clean_Text\"] = CB[\"Clean_Text\"].apply(stopword_removal)\n",
    "print(CB.info())\n",
    "CB.head(5)"
   ]
  },
  {
   "cell_type": "markdown",
   "id": "ddf63397-09fb-4fe2-beac-550aa42c297a",
   "metadata": {},
   "source": [
    "Looks like we have no duplicates!"
   ]
  },
  {
   "cell_type": "markdown",
   "id": "475d6ac0-d5ec-412a-a411-8b3e561b6f7f",
   "metadata": {},
   "source": [
    "### Feature Engineering "
   ]
  },
  {
   "cell_type": "code",
   "execution_count": 7,
   "id": "2320fc97-bd24-45ff-8fd7-40610a734b36",
   "metadata": {},
   "outputs": [],
   "source": [
    "#Use text blob to add sentiment analysis \n",
    "from textblob import TextBlob\n",
    "polarity_Subjectivity_scores=[]\n",
    "#add blank columns to CB data frame\n",
    "for text in CB['Clean_Text']:\n",
    "    analysis = TextBlob(text)\n",
    "    polarity_Subjectivity_scores.append((analysis.sentiment.polarity, analysis.sentiment.subjectivity))\n",
    "SentimentDF=pd.DataFrame(polarity_Subjectivity_scores, columns=['Polarity','Subjectivity'])"
   ]
  },
  {
   "cell_type": "code",
   "execution_count": 8,
   "id": "cddd4adf-6590-44af-afd9-1a58ba85f8b9",
   "metadata": {},
   "outputs": [
    {
     "data": {
      "text/html": [
       "<div>\n",
       "<style scoped>\n",
       "    .dataframe tbody tr th:only-of-type {\n",
       "        vertical-align: middle;\n",
       "    }\n",
       "\n",
       "    .dataframe tbody tr th {\n",
       "        vertical-align: top;\n",
       "    }\n",
       "\n",
       "    .dataframe thead th {\n",
       "        text-align: right;\n",
       "    }\n",
       "</style>\n",
       "<table border=\"1\" class=\"dataframe\">\n",
       "  <thead>\n",
       "    <tr style=\"text-align: right;\">\n",
       "      <th></th>\n",
       "      <th>tweet_text</th>\n",
       "      <th>cyberbullying_type</th>\n",
       "      <th>Clean_Text</th>\n",
       "      <th>Polarity</th>\n",
       "      <th>Subjectivity</th>\n",
       "    </tr>\n",
       "  </thead>\n",
       "  <tbody>\n",
       "    <tr>\n",
       "      <th>0</th>\n",
       "      <td>In other words #katandandre, your food was cra...</td>\n",
       "      <td>not_cyberbullying</td>\n",
       "      <td>In words katandandre, food crapilicious! mkr</td>\n",
       "      <td>0.00</td>\n",
       "      <td>0.000000</td>\n",
       "    </tr>\n",
       "    <tr>\n",
       "      <th>1</th>\n",
       "      <td>Why is #aussietv so white? #MKR #theblock #ImA...</td>\n",
       "      <td>not_cyberbullying</td>\n",
       "      <td>Why aussietv white? MKR theblock ImACelebrityA...</td>\n",
       "      <td>0.00</td>\n",
       "      <td>0.000000</td>\n",
       "    </tr>\n",
       "    <tr>\n",
       "      <th>2</th>\n",
       "      <td>@XochitlSuckkks a classy whore? Or more red ve...</td>\n",
       "      <td>not_cyberbullying</td>\n",
       "      <td>classy whore? Or red velvet cupcakes?</td>\n",
       "      <td>0.05</td>\n",
       "      <td>0.450000</td>\n",
       "    </tr>\n",
       "    <tr>\n",
       "      <th>3</th>\n",
       "      <td>@Jason_Gio meh. :P  thanks for the heads up, b...</td>\n",
       "      <td>not_cyberbullying</td>\n",
       "      <td>meh. :P thanks heads up, concerned angry dude ...</td>\n",
       "      <td>0.15</td>\n",
       "      <td>0.733333</td>\n",
       "    </tr>\n",
       "    <tr>\n",
       "      <th>4</th>\n",
       "      <td>@RudhoeEnglish This is an ISIS account pretend...</td>\n",
       "      <td>not_cyberbullying</td>\n",
       "      <td>This ISIS account pretending Kurdish account. ...</td>\n",
       "      <td>0.00</td>\n",
       "      <td>0.000000</td>\n",
       "    </tr>\n",
       "  </tbody>\n",
       "</table>\n",
       "</div>"
      ],
      "text/plain": [
       "                                          tweet_text cyberbullying_type  \\\n",
       "0  In other words #katandandre, your food was cra...  not_cyberbullying   \n",
       "1  Why is #aussietv so white? #MKR #theblock #ImA...  not_cyberbullying   \n",
       "2  @XochitlSuckkks a classy whore? Or more red ve...  not_cyberbullying   \n",
       "3  @Jason_Gio meh. :P  thanks for the heads up, b...  not_cyberbullying   \n",
       "4  @RudhoeEnglish This is an ISIS account pretend...  not_cyberbullying   \n",
       "\n",
       "                                          Clean_Text  Polarity  Subjectivity  \n",
       "0       In words katandandre, food crapilicious! mkr      0.00      0.000000  \n",
       "1  Why aussietv white? MKR theblock ImACelebrityA...      0.00      0.000000  \n",
       "2              classy whore? Or red velvet cupcakes?      0.05      0.450000  \n",
       "3  meh. :P thanks heads up, concerned angry dude ...      0.15      0.733333  \n",
       "4  This ISIS account pretending Kurdish account. ...      0.00      0.000000  "
      ]
     },
     "execution_count": 8,
     "metadata": {},
     "output_type": "execute_result"
    }
   ],
   "source": [
    "CBFD=pd.merge(CB, SentimentDF,left_index=True, right_index=True)\n",
    "CBFD.head(5)"
   ]
  },
  {
   "cell_type": "code",
   "execution_count": 9,
   "id": "9423c20a-6d2a-4b5d-9947-7356eecbe2a7",
   "metadata": {},
   "outputs": [
    {
     "name": "stdout",
     "output_type": "stream",
     "text": [
      "<class 'pandas.core.frame.DataFrame'>\n",
      "RangeIndex: 47692 entries, 0 to 47691\n",
      "Data columns (total 5 columns):\n",
      " #   Column              Non-Null Count  Dtype  \n",
      "---  ------              --------------  -----  \n",
      " 0   tweet_text          47692 non-null  object \n",
      " 1   cyberbullying_type  47692 non-null  object \n",
      " 2   Clean_Text          47692 non-null  object \n",
      " 3   Polarity            47692 non-null  float64\n",
      " 4   Subjectivity        47692 non-null  float64\n",
      "dtypes: float64(2), object(3)\n",
      "memory usage: 1.8+ MB\n"
     ]
    }
   ],
   "source": [
    "CBFD.info()"
   ]
  },
  {
   "cell_type": "markdown",
   "id": "ef425bb8-7e32-4955-b9db-274d37396f8d",
   "metadata": {},
   "source": [
    "### Exploratory Data Analysis"
   ]
  },
  {
   "cell_type": "code",
   "execution_count": 10,
   "id": "7c51a53b-b3bb-43ae-88c4-5de73a0357b1",
   "metadata": {},
   "outputs": [
    {
     "data": {
      "text/html": [
       "<div>\n",
       "<style scoped>\n",
       "    .dataframe tbody tr th:only-of-type {\n",
       "        vertical-align: middle;\n",
       "    }\n",
       "\n",
       "    .dataframe tbody tr th {\n",
       "        vertical-align: top;\n",
       "    }\n",
       "\n",
       "    .dataframe thead th {\n",
       "        text-align: right;\n",
       "    }\n",
       "</style>\n",
       "<table border=\"1\" class=\"dataframe\">\n",
       "  <thead>\n",
       "    <tr style=\"text-align: right;\">\n",
       "      <th></th>\n",
       "      <th>Polarity</th>\n",
       "      <th>Subjectivity</th>\n",
       "    </tr>\n",
       "  </thead>\n",
       "  <tbody>\n",
       "    <tr>\n",
       "      <th>count</th>\n",
       "      <td>47692.000000</td>\n",
       "      <td>47692.000000</td>\n",
       "    </tr>\n",
       "    <tr>\n",
       "      <th>mean</th>\n",
       "      <td>-0.039786</td>\n",
       "      <td>0.457177</td>\n",
       "    </tr>\n",
       "    <tr>\n",
       "      <th>std</th>\n",
       "      <td>0.340110</td>\n",
       "      <td>0.303707</td>\n",
       "    </tr>\n",
       "    <tr>\n",
       "      <th>min</th>\n",
       "      <td>-1.000000</td>\n",
       "      <td>0.000000</td>\n",
       "    </tr>\n",
       "    <tr>\n",
       "      <th>25%</th>\n",
       "      <td>-0.218750</td>\n",
       "      <td>0.200000</td>\n",
       "    </tr>\n",
       "    <tr>\n",
       "      <th>50%</th>\n",
       "      <td>0.000000</td>\n",
       "      <td>0.519395</td>\n",
       "    </tr>\n",
       "    <tr>\n",
       "      <th>75%</th>\n",
       "      <td>0.148182</td>\n",
       "      <td>0.666667</td>\n",
       "    </tr>\n",
       "    <tr>\n",
       "      <th>max</th>\n",
       "      <td>1.000000</td>\n",
       "      <td>1.000000</td>\n",
       "    </tr>\n",
       "  </tbody>\n",
       "</table>\n",
       "</div>"
      ],
      "text/plain": [
       "           Polarity  Subjectivity\n",
       "count  47692.000000  47692.000000\n",
       "mean      -0.039786      0.457177\n",
       "std        0.340110      0.303707\n",
       "min       -1.000000      0.000000\n",
       "25%       -0.218750      0.200000\n",
       "50%        0.000000      0.519395\n",
       "75%        0.148182      0.666667\n",
       "max        1.000000      1.000000"
      ]
     },
     "execution_count": 10,
     "metadata": {},
     "output_type": "execute_result"
    }
   ],
   "source": [
    "CBFD.describe()"
   ]
  },
  {
   "cell_type": "code",
   "execution_count": 11,
   "id": "7385a87a-540c-4d69-abc8-5abe9a5573e8",
   "metadata": {},
   "outputs": [
    {
     "data": {
      "text/plain": [
       "<matplotlib.collections.PathCollection at 0x1c22bea5e50>"
      ]
     },
     "execution_count": 11,
     "metadata": {},
     "output_type": "execute_result"
    },
    {
     "data": {
      "image/png": "[encoded data removed]",
      "text/plain": [
       "<Figure size 640x480 with 1 Axes>"
      ]
     },
     "metadata": {},
     "output_type": "display_data"
    }
   ],
   "source": [
    "plt.scatter(CBFD['Subjectivity'],CBFD['Polarity'])"
   ]
  },
  {
   "cell_type": "code",
   "execution_count": 12,
   "id": "ef798930-e7a0-40e1-a031-06b4d2d999e9",
   "metadata": {},
   "outputs": [
    {
     "data": {
      "text/plain": [
       "(array([  737.,  2356.,  3342.,  6367.,  6331., 19422.,  4829.,  3006.,\n",
       "          678.,   624.]),\n",
       " array([-1. , -0.8, -0.6, -0.4, -0.2,  0. ,  0.2,  0.4,  0.6,  0.8,  1. ]),\n",
       " <BarContainer object of 10 artists>)"
      ]
     },
     "execution_count": 12,
     "metadata": {},
     "output_type": "execute_result"
    },
    {
     "data": {
      "image/png": "[encoded data removed]",
      "text/plain": [
       "<Figure size 640x480 with 1 Axes>"
      ]
     },
     "metadata": {},
     "output_type": "display_data"
    }
   ],
   "source": [
    "plt.hist(CBFD['Polarity'])"
   ]
  },
  {
   "cell_type": "code",
   "execution_count": 13,
   "id": "0ed9b0b9-c438-490f-94ce-d00d9eea2749",
   "metadata": {},
   "outputs": [
    {
     "data": {
      "text/plain": [
       "(array([10262.,  1289.,  2658.,  3071.,  4394., 10385.,  5502.,  3522.,\n",
       "         2778.,  3831.]),\n",
       " array([0. , 0.1, 0.2, 0.3, 0.4, 0.5, 0.6, 0.7, 0.8, 0.9, 1. ]),\n",
       " <BarContainer object of 10 artists>)"
      ]
     },
     "execution_count": 13,
     "metadata": {},
     "output_type": "execute_result"
    },
    {
     "data": {
      "image/png": "[encoded data removed]",
      "text/plain": [
       "<Figure size 640x480 with 1 Axes>"
      ]
     },
     "metadata": {},
     "output_type": "display_data"
    }
   ],
   "source": [
    "plt.hist(CBFD['Subjectivity'])"
   ]
  },
  {
   "cell_type": "code",
   "execution_count": 14,
   "id": "c2d751dc-e3ce-419c-bf51-3c2322a2291c",
   "metadata": {},
   "outputs": [
    {
     "data": {
      "text/plain": [
       "(array([  612.,  2099.,  2993.,  5916.,  5833., 14851.,  4164.,  2439.,\n",
       "          465.,   375.]),\n",
       " array([-1. , -0.8, -0.6, -0.4, -0.2,  0. ,  0.2,  0.4,  0.6,  0.8,  1. ]),\n",
       " <BarContainer object of 10 artists>)"
      ]
     },
     "execution_count": 14,
     "metadata": {},
     "output_type": "execute_result"
    },
    {
     "data": {
      "image/png": "[encoded data removed]",
      "text/plain": [
       "<Figure size 640x480 with 1 Axes>"
      ]
     },
     "metadata": {},
     "output_type": "display_data"
    }
   ],
   "source": [
    "CBFDFilter = CBFD[CBFD['cyberbullying_type']!='not_cyberbullying']\n",
    "plt.hist(CBFDFilter['Polarity'])"
   ]
  },
  {
   "cell_type": "code",
   "execution_count": 15,
   "id": "2271297c-7a1a-466c-9ba5-35df0efd4301",
   "metadata": {},
   "outputs": [
    {
     "data": {
      "text/plain": [
       "(array([  612.,  2099.,  2993.,  5916.,  5833., 14851.,  4164.,  2439.,\n",
       "          465.,   375.]),\n",
       " array([-1. , -0.8, -0.6, -0.4, -0.2,  0. ,  0.2,  0.4,  0.6,  0.8,  1. ]),\n",
       " <BarContainer object of 10 artists>)"
      ]
     },
     "execution_count": 15,
     "metadata": {},
     "output_type": "execute_result"
    },
    {
     "data": {
      "image/png": "[encoded data removed]",
      "text/plain": [
       "<Figure size 640x480 with 1 Axes>"
      ]
     },
     "metadata": {},
     "output_type": "display_data"
    }
   ],
   "source": [
    "plt.hist(CBFD['Polarity'])\n",
    "plt.hist(CBFDFilter['Polarity'])"
   ]
  },
  {
   "cell_type": "code",
   "execution_count": 16,
   "id": "b2d65abf-b91d-4f4c-b157-89a4717a0675",
   "metadata": {},
   "outputs": [
    {
     "data": {
      "text/plain": [
       "(array([6701., 1064., 2267., 2829., 4001., 9536., 4880., 3248., 2395.,\n",
       "        2826.]),\n",
       " array([0. , 0.1, 0.2, 0.3, 0.4, 0.5, 0.6, 0.7, 0.8, 0.9, 1. ]),\n",
       " <BarContainer object of 10 artists>)"
      ]
     },
     "execution_count": 16,
     "metadata": {},
     "output_type": "execute_result"
    },
    {
     "data": {
      "image/png": "[encoded data removed]",
      "text/plain": [
       "<Figure size 640x480 with 1 Axes>"
      ]
     },
     "metadata": {},
     "output_type": "display_data"
    }
   ],
   "source": [
    "plt.hist(CBFD['Subjectivity'])\n",
    "plt.hist(CBFDFilter['Subjectivity'])"
   ]
  },
  {
   "cell_type": "code",
   "execution_count": 17,
   "id": "1acf6e69-c91d-4a8b-a371-7fa0bf06f2d4",
   "metadata": {},
   "outputs": [
    {
     "data": {
      "text/html": [
       "<div>\n",
       "<style scoped>\n",
       "    .dataframe tbody tr th:only-of-type {\n",
       "        vertical-align: middle;\n",
       "    }\n",
       "\n",
       "    .dataframe tbody tr th {\n",
       "        vertical-align: top;\n",
       "    }\n",
       "\n",
       "    .dataframe thead th {\n",
       "        text-align: right;\n",
       "    }\n",
       "</style>\n",
       "<table border=\"1\" class=\"dataframe\">\n",
       "  <thead>\n",
       "    <tr style=\"text-align: right;\">\n",
       "      <th></th>\n",
       "      <th>Polarity</th>\n",
       "      <th>Subjectivity</th>\n",
       "    </tr>\n",
       "  </thead>\n",
       "  <tbody>\n",
       "    <tr>\n",
       "      <th>count</th>\n",
       "      <td>39747.000000</td>\n",
       "      <td>39747.000000</td>\n",
       "    </tr>\n",
       "    <tr>\n",
       "      <th>mean</th>\n",
       "      <td>-0.055208</td>\n",
       "      <td>0.479274</td>\n",
       "    </tr>\n",
       "    <tr>\n",
       "      <th>std</th>\n",
       "      <td>0.338711</td>\n",
       "      <td>0.284278</td>\n",
       "    </tr>\n",
       "    <tr>\n",
       "      <th>min</th>\n",
       "      <td>-1.000000</td>\n",
       "      <td>0.000000</td>\n",
       "    </tr>\n",
       "    <tr>\n",
       "      <th>25%</th>\n",
       "      <td>-0.250000</td>\n",
       "      <td>0.300000</td>\n",
       "    </tr>\n",
       "    <tr>\n",
       "      <th>50%</th>\n",
       "      <td>0.000000</td>\n",
       "      <td>0.540000</td>\n",
       "    </tr>\n",
       "    <tr>\n",
       "      <th>75%</th>\n",
       "      <td>0.146905</td>\n",
       "      <td>0.667929</td>\n",
       "    </tr>\n",
       "    <tr>\n",
       "      <th>max</th>\n",
       "      <td>1.000000</td>\n",
       "      <td>1.000000</td>\n",
       "    </tr>\n",
       "  </tbody>\n",
       "</table>\n",
       "</div>"
      ],
      "text/plain": [
       "           Polarity  Subjectivity\n",
       "count  39747.000000  39747.000000\n",
       "mean      -0.055208      0.479274\n",
       "std        0.338711      0.284278\n",
       "min       -1.000000      0.000000\n",
       "25%       -0.250000      0.300000\n",
       "50%        0.000000      0.540000\n",
       "75%        0.146905      0.667929\n",
       "max        1.000000      1.000000"
      ]
     },
     "execution_count": 17,
     "metadata": {},
     "output_type": "execute_result"
    }
   ],
   "source": [
    "CBFDFilter.describe()"
   ]
  },
  {
   "cell_type": "markdown",
   "id": "21e8690b-ed82-44f1-80fb-55a4b405894e",
   "metadata": {},
   "source": [
    "### Model Building"
   ]
  },
  {
   "cell_type": "code",
   "execution_count": 18,
   "id": "48bad9a8-4a71-40ed-8853-e8cedeb88bea",
   "metadata": {},
   "outputs": [
    {
     "name": "stdout",
     "output_type": "stream",
     "text": [
      "Train size:  38153 Test size:  9539\n"
     ]
    }
   ],
   "source": [
    "#Naive Bayes basic model\n",
    "#Create a bag of words so Naive Bayes model can fit data\n",
    "\n",
    "text_vector = Pipeline([\n",
    "('vect', CountVectorizer()),\n",
    "('clf' , MultinomialNB()),])\n",
    "\n",
    "\n",
    "X=CBFD['Clean_Text']\n",
    "\n",
    "y=CBFD['cyberbullying_type']\n",
    "\n",
    "X_train, X_test, y_train, y_test = train_test_split(\n",
    "    X, y, test_size=0.2, random_state=101)\n",
    "print('Train size: ', len(X_train), 'Test size: ', len(X_test))\n",
    "\n",
    "#construct model\n",
    "text_vector.fit(X_train, y_train)\n",
    "y_pred = text_vector.predict(X_test)"
   ]
  },
  {
   "cell_type": "code",
   "execution_count": 19,
   "id": "91fb4900-7415-467b-a13f-88c9bab1cc19",
   "metadata": {},
   "outputs": [
    {
     "name": "stdout",
     "output_type": "stream",
     "text": [
      "Accuracy: 0.7602474053884055\n",
      "F1 score: 0.742071146519077\n",
      "                     precision    recall  f1-score   support\n",
      "\n",
      "                age       0.73      0.99      0.84      1554\n",
      "          ethnicity       0.85      0.92      0.88      1626\n",
      "             gender       0.83      0.80      0.82      1622\n",
      "  not_cyberbullying       0.65      0.40      0.49      1597\n",
      "other_cyberbullying       0.61      0.48      0.54      1566\n",
      "           religion       0.81      0.98      0.88      1574\n",
      "\n",
      "           accuracy                           0.76      9539\n",
      "          macro avg       0.75      0.76      0.74      9539\n",
      "       weighted avg       0.75      0.76      0.74      9539\n",
      "\n"
     ]
    }
   ],
   "source": [
    "print('Accuracy:', accuracy_score(y_test, y_pred))\n",
    "print('F1 score:', f1_score(y_test, y_pred, average=\"macro\"))\n",
    "print(classification_report(y_test, y_pred))"
   ]
  },
  {
   "cell_type": "code",
   "execution_count": 20,
   "id": "d61ee40c-9398-4b11-a3ee-c8a6bdaffd73",
   "metadata": {},
   "outputs": [
    {
     "data": {
      "text/plain": [
       "array([[1535,    6,    2,    3,    1,    7],\n",
       "       [  44, 1492,   10,    4,   22,   54],\n",
       "       [  30,   39, 1302,  109,  101,   41],\n",
       "       [ 248,   82,  111,  634,  359,  163],\n",
       "       [ 231,  126,  136,  214,  752,  107],\n",
       "       [   5,   10,    7,   12,    3, 1537]], dtype=int64)"
      ]
     },
     "execution_count": 20,
     "metadata": {},
     "output_type": "execute_result"
    }
   ],
   "source": [
    "confusion_matrix(y_test,y_pred)"
   ]
  },
  {
   "cell_type": "code",
   "execution_count": 21,
   "id": "345af81d-7f3c-497a-a57b-5771ad58bdaf",
   "metadata": {},
   "outputs": [
    {
     "name": "stdout",
     "output_type": "stream",
     "text": [
      "Train size:  38153 Test size:  9539\n"
     ]
    }
   ],
   "source": [
    "#Apply term frequency-inverse document frequency transformation. This will give rare words higher values.\n",
    "text_Tfidf = Pipeline([\n",
    "('vect', CountVectorizer()),\n",
    "('tfidf', TfidfTransformer()),\n",
    "('clf' , MultinomialNB()),\n",
    "])\n",
    "\n",
    "X=CBFD['Clean_Text']\n",
    "\n",
    "y=CBFD['cyberbullying_type']\n",
    "\n",
    "X_train, X_test, y_train, y_test = train_test_split(\n",
    "    X, y, test_size=0.2, random_state=101)\n",
    "\n",
    "print('Train size: ', len(X_train), 'Test size: ', len(X_test))\n",
    "#construct model with tfidf\n",
    "text_Tfidf.fit(X_train, y_train)\n",
    "y_pred = text_Tfidf.predict(X_test)"
   ]
  },
  {
   "cell_type": "code",
   "execution_count": 22,
   "id": "e3272c59-e84e-42a8-9693-aff1d7b1901d",
   "metadata": {},
   "outputs": [
    {
     "name": "stdout",
     "output_type": "stream",
     "text": [
      "Accuracy: 0.7469336408428556\n",
      "F1 score: 0.7253759550836955\n",
      "                     precision    recall  f1-score   support\n",
      "\n",
      "                age       0.70      0.98      0.82      1554\n",
      "          ethnicity       0.83      0.90      0.87      1626\n",
      "             gender       0.80      0.82      0.81      1622\n",
      "  not_cyberbullying       0.66      0.37      0.47      1597\n",
      "other_cyberbullying       0.62      0.44      0.52      1566\n",
      "           religion       0.78      0.97      0.87      1574\n",
      "\n",
      "           accuracy                           0.75      9539\n",
      "          macro avg       0.73      0.75      0.73      9539\n",
      "       weighted avg       0.73      0.75      0.73      9539\n",
      "\n"
     ]
    },
    {
     "data": {
      "text/plain": [
       "array([[1521,    8,    4,    2,    4,   15],\n",
       "       [  64, 1462,   15,    5,   17,   63],\n",
       "       [  46,   47, 1329,   89,   69,   42],\n",
       "       [ 267,   90,  127,  590,  335,  188],\n",
       "       [ 253,  136,  167,  201,  694,  115],\n",
       "       [  14,   10,   11,    7,    3, 1529]], dtype=int64)"
      ]
     },
     "execution_count": 22,
     "metadata": {},
     "output_type": "execute_result"
    }
   ],
   "source": [
    "print('Accuracy:', accuracy_score(y_test, y_pred))\n",
    "print('F1 score:', f1_score(y_test, y_pred, average=\"macro\"))\n",
    "print(classification_report(y_test, y_pred))\n",
    "confusion_matrix(y_test,y_pred)"
   ]
  },
  {
   "cell_type": "code",
   "execution_count": 23,
   "id": "246811f5-a9c4-4873-aa46-3cc132cb7f16",
   "metadata": {},
   "outputs": [
    {
     "name": "stdout",
     "output_type": "stream",
     "text": [
      "Train size:  38153 Test size:  9539\n",
      "Accuracy: 0.8248244050739071\n",
      "F1 score: 0.8260288582151799\n",
      "                     precision    recall  f1-score   support\n",
      "\n",
      "                age       0.98      0.97      0.98      1554\n",
      "          ethnicity       0.98      0.95      0.97      1626\n",
      "             gender       0.89      0.84      0.87      1622\n",
      "  not_cyberbullying       0.61      0.52      0.56      1597\n",
      "other_cyberbullying       0.57      0.71      0.63      1566\n",
      "           religion       0.96      0.95      0.96      1574\n",
      "\n",
      "           accuracy                           0.82      9539\n",
      "          macro avg       0.83      0.83      0.83      9539\n",
      "       weighted avg       0.83      0.82      0.83      9539\n",
      "\n"
     ]
    },
    {
     "data": {
      "text/plain": [
       "array([[1512,    2,    4,   18,   15,    3],\n",
       "       [   6, 1549,    6,   16,   42,    7],\n",
       "       [   1,    7, 1362,  112,  135,    5],\n",
       "       [  17,    7,   63,  828,  632,   50],\n",
       "       [   5,   11,   87,  345, 1114,    4],\n",
       "       [   1,    4,    3,   30,   33, 1503]], dtype=int64)"
      ]
     },
     "execution_count": 23,
     "metadata": {},
     "output_type": "execute_result"
    }
   ],
   "source": [
    "#support vector Machine\n",
    "text_clf = Pipeline([\n",
    "('vect', CountVectorizer()),\n",
    "('clf', SGDClassifier()),\n",
    "])\n",
    "X=CBFD['Clean_Text']\n",
    "\n",
    "y=CBFD['cyberbullying_type']\n",
    "\n",
    "X_train, X_test, y_train, y_test = train_test_split(\n",
    "    X, y, test_size=0.2, random_state=101)\n",
    "print('Train size: ', len(X_train), 'Test size: ', len(X_test))\n",
    "\n",
    "text_clf.fit(X_train, y_train)\n",
    "y_pred2=text_clf.predict(X_test)\n",
    "print('Accuracy:', accuracy_score(y_test, y_pred2))\n",
    "print('F1 score:', f1_score(y_test, y_pred2, average=\"macro\"))\n",
    "print(classification_report(y_test, y_pred2))\n",
    "confusion_matrix(y_test,y_pred2)"
   ]
  },
  {
   "cell_type": "code",
   "execution_count": 24,
   "id": "c7714b23-c715-4be1-8893-f2a2c915eef8",
   "metadata": {},
   "outputs": [
    {
     "name": "stdout",
     "output_type": "stream",
     "text": [
      "Train size:  38153 Test size:  9539\n",
      "Accuracy: 0.7924310724394591\n",
      "F1 score: 0.7940724245875889\n",
      "                     precision    recall  f1-score   support\n",
      "\n",
      "                age       0.98      0.97      0.97      1554\n",
      "          ethnicity       0.97      0.95      0.96      1626\n",
      "             gender       0.85      0.83      0.84      1622\n",
      "  not_cyberbullying       0.52      0.51      0.51      1597\n",
      "other_cyberbullying       0.52      0.56      0.54      1566\n",
      "           religion       0.94      0.94      0.94      1574\n",
      "\n",
      "           accuracy                           0.79      9539\n",
      "          macro avg       0.80      0.79      0.79      9539\n",
      "       weighted avg       0.80      0.79      0.79      9539\n",
      "\n"
     ]
    },
    {
     "data": {
      "text/plain": [
       "array([[1504,    3,    4,   21,   18,    4],\n",
       "       [   2, 1548,    5,   18,   43,   10],\n",
       "       [   2,    3, 1344,  121,  143,    9],\n",
       "       [  20,   10,   99,  810,  601,   57],\n",
       "       [   5,   20,  122,  534,  875,   10],\n",
       "       [   1,    5,   12,   60,   18, 1478]], dtype=int64)"
      ]
     },
     "execution_count": 24,
     "metadata": {},
     "output_type": "execute_result"
    }
   ],
   "source": [
    "#Decision Tree Classifier\n",
    "DTC = Pipeline([\n",
    "('vect', CountVectorizer()),\n",
    "('clf',DecisionTreeClassifier()),\n",
    "])\n",
    "X=CBFD['Clean_Text']\n",
    "\n",
    "y=CBFD['cyberbullying_type']\n",
    "\n",
    "X_train, X_test, y_train, y_test = train_test_split(\n",
    "    X, y, test_size=0.2, random_state=101)\n",
    "print('Train size: ', len(X_train), 'Test size: ', len(X_test))\n",
    "\n",
    "DTC.fit(X_train, y_train)\n",
    "y_pred3=DTC.predict(X_test)\n",
    "print('Accuracy:', accuracy_score(y_test, y_pred3))\n",
    "print('F1 score:', f1_score(y_test, y_pred3, average=\"macro\"))\n",
    "print(classification_report(y_test, y_pred3))\n",
    "confusion_matrix(y_test,y_pred3)"
   ]
  },
  {
   "cell_type": "code",
   "execution_count": 25,
   "id": "65c9d1c5-d61c-4a1b-ba31-007f70f72b8b",
   "metadata": {},
   "outputs": [
    {
     "name": "stdout",
     "output_type": "stream",
     "text": [
      "Train size:  38153 Test size:  9539\n",
      "Accuracy: 0.7367648600482231\n",
      "F1 score: 0.7011313409702701\n",
      "                     precision    recall  f1-score   support\n",
      "\n",
      "                age       0.79      0.98      0.88      1554\n",
      "          ethnicity       0.90      0.94      0.92      1626\n",
      "             gender       0.88      0.70      0.78      1622\n",
      "  not_cyberbullying       0.45      0.76      0.56      1597\n",
      "other_cyberbullying       0.68      0.09      0.17      1566\n",
      "           religion       0.86      0.95      0.90      1574\n",
      "\n",
      "           accuracy                           0.74      9539\n",
      "          macro avg       0.76      0.74      0.70      9539\n",
      "       weighted avg       0.76      0.74      0.70      9539\n",
      "\n"
     ]
    },
    {
     "data": {
      "text/plain": [
       "array([[1520,    2,    2,   18,    1,   11],\n",
       "       [  17, 1523,    6,   32,    9,   39],\n",
       "       [  67,   36, 1142,  329,   23,   25],\n",
       "       [ 173,   46,   54, 1207,   36,   81],\n",
       "       [ 133,   78,   88, 1038,  148,   81],\n",
       "       [   5,    9,    9,   63,    0, 1488]], dtype=int64)"
      ]
     },
     "execution_count": 25,
     "metadata": {},
     "output_type": "execute_result"
    }
   ],
   "source": [
    "#Random Forest Classifier\n",
    "RFC = Pipeline([\n",
    "('vect', CountVectorizer()),\n",
    "('clf',RandomForestClassifier(n_estimators=100, max_depth=5)),\n",
    "])\n",
    "X=CBFD['Clean_Text']\n",
    "\n",
    "y=CBFD['cyberbullying_type']\n",
    "\n",
    "X_train, X_test, y_train, y_test = train_test_split(\n",
    "    X, y, test_size=0.2, random_state=101)\n",
    "print('Train size: ', len(X_train), 'Test size: ', len(X_test))\n",
    "\n",
    "RFC.fit(X_train, y_train)\n",
    "y_pred3=RFC.predict(X_test)\n",
    "print('Accuracy:', accuracy_score(y_test, y_pred3))\n",
    "print('F1 score:', f1_score(y_test, y_pred3, average=\"macro\"))\n",
    "print(classification_report(y_test, y_pred3))\n",
    "confusion_matrix(y_test,y_pred3)"
   ]
  },
  {
   "cell_type": "code",
   "execution_count": 26,
   "id": "822edc32-6b12-4195-ac92-0627067d5ade",
   "metadata": {},
   "outputs": [
    {
     "name": "stdout",
     "output_type": "stream",
     "text": [
      "Train size:  38153 Test size:  9539\n",
      "Iteration 1, loss = 1.32898797\n",
      "Iteration 2, loss = 0.66052285\n",
      "Iteration 3, loss = 0.42983177\n",
      "Iteration 4, loss = 0.32478337\n",
      "Iteration 5, loss = 0.26348255\n",
      "Iteration 6, loss = 0.22275130\n",
      "Iteration 7, loss = 0.19399854\n",
      "Iteration 8, loss = 0.17289842\n",
      "Iteration 9, loss = 0.15672715\n",
      "Iteration 10, loss = 0.14419790\n",
      "Iteration 11, loss = 0.13423173\n",
      "Iteration 12, loss = 0.12552617\n",
      "Iteration 13, loss = 0.11916339\n",
      "Iteration 14, loss = 0.11423683\n",
      "Iteration 15, loss = 0.10928755\n",
      "Iteration 16, loss = 0.10542243\n",
      "Iteration 17, loss = 0.10147156\n",
      "Iteration 18, loss = 0.09912751\n",
      "Iteration 19, loss = 0.09613735\n",
      "Iteration 20, loss = 0.09419759\n",
      "Iteration 21, loss = 0.09152578\n",
      "Iteration 22, loss = 0.08976247\n",
      "Iteration 23, loss = 0.08800710\n",
      "Iteration 24, loss = 0.08646013\n",
      "Iteration 25, loss = 0.08496672\n",
      "Iteration 26, loss = 0.08437072\n",
      "Iteration 27, loss = 0.08292271\n",
      "Iteration 28, loss = 0.08170557\n",
      "Iteration 29, loss = 0.08060315\n",
      "Iteration 30, loss = 0.07953552\n",
      "Iteration 31, loss = 0.07937285\n",
      "Iteration 32, loss = 0.07921671\n",
      "Iteration 33, loss = 0.07770594\n",
      "Iteration 34, loss = 0.07706786\n",
      "Iteration 35, loss = 0.07651407\n",
      "Iteration 36, loss = 0.07528405\n",
      "Iteration 37, loss = 0.07464960\n",
      "Iteration 38, loss = 0.07423160\n",
      "Iteration 39, loss = 0.07439103\n",
      "Iteration 40, loss = 0.07384618\n",
      "Iteration 41, loss = 0.07324181\n",
      "Iteration 42, loss = 0.07238566\n",
      "Iteration 43, loss = 0.07198550\n",
      "Iteration 44, loss = 0.07136977\n",
      "Iteration 45, loss = 0.07166054\n",
      "Iteration 46, loss = 0.07081619\n",
      "Iteration 47, loss = 0.07056112\n",
      "Iteration 48, loss = 0.07003036\n",
      "Iteration 49, loss = 0.07016429\n",
      "Iteration 50, loss = 0.07032912\n",
      "Iteration 51, loss = 0.06969882\n",
      "Iteration 52, loss = 0.06856928\n",
      "Iteration 53, loss = 0.06915634\n",
      "Iteration 54, loss = 0.06807624\n",
      "Iteration 55, loss = 0.06772729\n",
      "Iteration 56, loss = 0.06708623\n",
      "Iteration 57, loss = 0.06712338\n",
      "Iteration 58, loss = 0.06729324\n",
      "Iteration 59, loss = 0.06690375\n",
      "Iteration 60, loss = 0.06612510\n",
      "Iteration 61, loss = 0.06634339\n",
      "Iteration 62, loss = 0.06665585\n",
      "Iteration 63, loss = 0.06513919\n",
      "Iteration 64, loss = 0.06505008\n",
      "Iteration 65, loss = 0.06492995\n",
      "Iteration 66, loss = 0.06464591\n",
      "Iteration 67, loss = 0.06474712\n",
      "Iteration 68, loss = 0.06431773\n",
      "Iteration 69, loss = 0.06450250\n",
      "Iteration 70, loss = 0.06423109\n",
      "Iteration 71, loss = 0.06398204\n",
      "Iteration 72, loss = 0.06341588\n",
      "Iteration 73, loss = 0.06358279\n",
      "Iteration 74, loss = 0.06363379\n",
      "Iteration 75, loss = 0.06292201\n",
      "Iteration 76, loss = 0.06288163\n",
      "Iteration 77, loss = 0.06231345\n",
      "Iteration 78, loss = 0.06251278\n",
      "Iteration 79, loss = 0.06227078\n",
      "Iteration 80, loss = 0.06201923\n",
      "Iteration 81, loss = 0.06190201\n",
      "Iteration 82, loss = 0.06249952\n",
      "Iteration 83, loss = 0.06156238\n",
      "Iteration 84, loss = 0.06177832\n",
      "Iteration 85, loss = 0.06194244\n",
      "Iteration 86, loss = 0.06114489\n",
      "Iteration 87, loss = 0.06101175\n",
      "Iteration 88, loss = 0.06127566\n",
      "Iteration 89, loss = 0.06089462\n",
      "Iteration 90, loss = 0.06095493\n",
      "Iteration 91, loss = 0.06006773\n",
      "Iteration 92, loss = 0.05994212\n",
      "Iteration 93, loss = 0.06034570\n",
      "Iteration 94, loss = 0.06097001\n",
      "Iteration 95, loss = 0.06056288\n",
      "Iteration 96, loss = 0.05964119\n",
      "Iteration 97, loss = 0.05918035\n",
      "Iteration 98, loss = 0.05926050\n",
      "Iteration 99, loss = 0.05932945\n",
      "Iteration 100, loss = 0.05895762\n",
      "Accuracy: 0.7727225076003774\n"
     ]
    },
    {
     "name": "stderr",
     "output_type": "stream",
     "text": [
      "C:\\Users\\zdavl\\miniconda3\\lib\\site-packages\\sklearn\\neural_network\\_multilayer_perceptron.py:686: ConvergenceWarning: Stochastic Optimizer: Maximum iterations (100) reached and the optimization hasn't converged yet.\n",
      "  warnings.warn(\n"
     ]
    },
    {
     "name": "stdout",
     "output_type": "stream",
     "text": [
      "F1 score: 0.7755151125790517\n"
     ]
    },
    {
     "data": {
      "text/plain": [
       "array([[1461,    7,   15,   32,   35,    4],\n",
       "       [  12, 1514,   10,   36,   44,   10],\n",
       "       [   7,    9, 1302,  149,  148,    7],\n",
       "       [  32,    9,  120,  789,  599,   48],\n",
       "       [  10,   18,  133,  554,  839,   12],\n",
       "       [   3,    7,   17,   54,   27, 1466]], dtype=int64)"
      ]
     },
     "execution_count": 26,
     "metadata": {},
     "output_type": "execute_result"
    }
   ],
   "source": [
    "#NeuralNet\n",
    "NN = Pipeline([\n",
    "('vect', CountVectorizer()),\n",
    "('clf',MLPClassifier(activation='relu', solver='adam',alpha=0.0001, batch_size=1000, learning_rate_init=0.001,max_iter=100, verbose=1),)\n",
    "])\n",
    "X=CBFD['Clean_Text']\n",
    "\n",
    "y=CBFD['cyberbullying_type']\n",
    "\n",
    "X_train, X_test, y_train, y_test = train_test_split(\n",
    "    X, y, test_size=0.2, random_state=101)\n",
    "print('Train size: ', len(X_train), 'Test size: ', len(X_test))\n",
    "\n",
    "NN.fit(X_train, y_train)\n",
    "y_pred3=NN.predict(X_test)\n",
    "print('Accuracy:', accuracy_score(y_test, y_pred3))\n",
    "print('F1 score:', f1_score(y_test, y_pred3, average=\"macro\"))\n",
    "confusion_matrix(y_test,y_pred3)"
   ]
  },
  {
   "cell_type": "code",
   "execution_count": 27,
   "id": "4354dd44-da9f-4136-a136-3ea1bde9f484",
   "metadata": {},
   "outputs": [
    {
     "name": "stdout",
     "output_type": "stream",
     "text": [
      "Accuracy: 0.8150749554460636\n",
      "F1 score: 0.8098632901326325\n",
      "                     precision    recall  f1-score   support\n",
      "\n",
      "                age       0.88      0.98      0.93      1554\n",
      "          ethnicity       0.93      0.96      0.95      1626\n",
      "             gender       0.87      0.85      0.86      1622\n",
      "  not_cyberbullying       0.63      0.50      0.56      1597\n",
      "other_cyberbullying       0.59      0.64      0.61      1566\n",
      "           religion       0.95      0.96      0.96      1574\n",
      "\n",
      "           accuracy                           0.82      9539\n",
      "          macro avg       0.81      0.82      0.81      9539\n",
      "       weighted avg       0.81      0.82      0.81      9539\n",
      "\n"
     ]
    },
    {
     "data": {
      "text/plain": [
       "array([[1527,    2,    2,   10,   10,    3],\n",
       "       [  16, 1567,    2,    9,   24,    8],\n",
       "       [  13,   17, 1374,  102,  111,    5],\n",
       "       [  89,   29,   87,  793,  539,   60],\n",
       "       [  82,   61,  116,  303,  998,    6],\n",
       "       [   3,    7,    6,   35,    7, 1516]], dtype=int64)"
      ]
     },
     "execution_count": 27,
     "metadata": {},
     "output_type": "execute_result"
    }
   ],
   "source": [
    "#votingClassifier\n",
    "pipeline1=Pipeline([\n",
    "('vect', CountVectorizer()),\n",
    "('SVM', SGDClassifier()),\n",
    "('DTC', DecisionTreeClassifier()),\n",
    "('NB', MultinomialNB())\n",
    "])\n",
    "voting_clf= VotingClassifier(estimators=[\n",
    "('SVM', SGDClassifier()),\n",
    "('DTC', DecisionTreeClassifier()),\n",
    "('NB', MultinomialNB())\n",
    "], voting='hard')\n",
    "\n",
    "pipeline1.set_params(SVM=None)\n",
    "pipeline1.set_params(DTC=None)\n",
    "pipeline1.set_params(NB=None)\n",
    "pipeline1.steps.append(['voting_clf', voting_clf])\n",
    "\n",
    "pipeline1.fit(X_train, y_train)\n",
    "y_pred4=pipeline1.predict(X_test)\n",
    "print('Accuracy:', accuracy_score(y_test, y_pred4))\n",
    "print('F1 score:', f1_score(y_test, y_pred4, average=\"macro\"))\n",
    "print(classification_report(y_test, y_pred4))\n",
    "confusion_matrix(y_test,y_pred4)"
   ]
  },
  {
   "cell_type": "markdown",
   "id": "2860b8a8-ce36-4b31-8dc4-867a5602decf",
   "metadata": {},
   "source": [
    "Lets try only using the sentiment values that have been added"
   ]
  },
  {
   "cell_type": "code",
   "execution_count": 28,
   "id": "82d8f8c6-d7e8-4f57-8cb3-fb68a23f3cc5",
   "metadata": {},
   "outputs": [
    {
     "name": "stdout",
     "output_type": "stream",
     "text": [
      "Train size:  38153 Test size:  9539\n",
      "Accuracy: 0.6735506866547856\n",
      "F1 score: 0.6831249178955178\n",
      "                     precision    recall  f1-score   support\n",
      "\n",
      "                age       0.90      0.79      0.84      1554\n",
      "          ethnicity       0.93      0.88      0.91      1626\n",
      "             gender       0.89      0.62      0.73      1622\n",
      "  not_cyberbullying       0.39      0.77      0.52      1597\n",
      "other_cyberbullying       0.51      0.34      0.41      1566\n",
      "           religion       0.78      0.62      0.69      1574\n",
      "\n",
      "           accuracy                           0.67      9539\n",
      "          macro avg       0.73      0.67      0.68      9539\n",
      "       weighted avg       0.73      0.67      0.68      9539\n",
      "\n"
     ]
    },
    {
     "data": {
      "text/plain": [
       "array([[1235,   13,   12,  201,   56,   37],\n",
       "       [  19, 1438,    8,  104,   34,   23],\n",
       "       [  25,   23,  999,  406,  124,   45],\n",
       "       [  44,   19,   38, 1232,  193,   71],\n",
       "       [  25,   17,   37,  847,  539,  101],\n",
       "       [  31,   31,   25,  393,  112,  982]], dtype=int64)"
      ]
     },
     "execution_count": 28,
     "metadata": {},
     "output_type": "execute_result"
    }
   ],
   "source": [
    "#Decision Tree Classifier polarity and subjectivity\n",
    "X = CBFD[['Polarity','Subjectivity' ]]\n",
    "y = CBFD['cyberbullying_type']\n",
    "\n",
    "X_train, X_test, y_train, y_test = train_test_split(\n",
    "    X, y, test_size=0.2, random_state=101)\n",
    "print('Train size: ', len(X_train), 'Test size: ', len(X_test))\n",
    "\n",
    "tree_model = DecisionTreeClassifier()\n",
    "tree_model.fit(X,y)\n",
    "y_pred5 = tree_model.predict(X_test)\n",
    "print('Accuracy:', accuracy_score(y_test, y_pred5))\n",
    "print('F1 score:', f1_score(y_test, y_pred5, average=\"macro\"))\n",
    "print(classification_report(y_test, y_pred5))\n",
    "confusion_matrix(y_test,y_pred5)"
   ]
  },
  {
   "cell_type": "code",
   "execution_count": 29,
   "id": "4da4f526-686c-407d-b685-3b243fdd6275",
   "metadata": {},
   "outputs": [
    {
     "name": "stdout",
     "output_type": "stream",
     "text": [
      "Accuracy: 0.38505084390397315\n",
      "F1 score: 0.3641720368613637\n",
      "                     precision    recall  f1-score   support\n",
      "\n",
      "                age       0.34      0.51      0.41      1554\n",
      "          ethnicity       0.51      0.66      0.58      1626\n",
      "             gender       0.39      0.23      0.29      1622\n",
      "  not_cyberbullying       0.35      0.50      0.41      1597\n",
      "other_cyberbullying       0.43      0.17      0.25      1566\n",
      "           religion       0.30      0.22      0.25      1574\n",
      "\n",
      "           accuracy                           0.39      9539\n",
      "          macro avg       0.38      0.38      0.36      9539\n",
      "       weighted avg       0.39      0.39      0.37      9539\n",
      "\n"
     ]
    },
    {
     "data": {
      "text/plain": [
       "array([[ 798,  245,  174,  156,   34,  147],\n",
       "       [ 273, 1080,   46,   89,   24,  114],\n",
       "       [ 483,  184,  368,  317,   90,  180],\n",
       "       [ 217,  116,  151,  806,  150,  157],\n",
       "       [ 207,  110,  117,  645,  274,  213],\n",
       "       [ 356,  393,   97,  310,   71,  347]], dtype=int64)"
      ]
     },
     "execution_count": 29,
     "metadata": {},
     "output_type": "execute_result"
    }
   ],
   "source": [
    "svc_model = SVC()\n",
    "svc_model.fit(X,y)\n",
    "y_pred5 = svc_model.predict(X_test)\n",
    "print('Accuracy:', accuracy_score(y_test, y_pred5))\n",
    "print('F1 score:', f1_score(y_test, y_pred5, average=\"macro\"))\n",
    "print(classification_report(y_test, y_pred5))\n",
    "confusion_matrix(y_test,y_pred5)"
   ]
  },
  {
   "cell_type": "markdown",
   "id": "6f3815a5-0b09-424d-b312-464856dd2311",
   "metadata": {},
   "source": [
    "Find a model to combine all data"
   ]
  },
  {
   "cell_type": "code",
   "execution_count": 30,
   "id": "ee9142f6-23ec-4be2-8c1b-3d2045522599",
   "metadata": {},
   "outputs": [
    {
     "name": "stdout",
     "output_type": "stream",
     "text": [
      "<class 'pandas.core.frame.DataFrame'>\n",
      "RangeIndex: 47692 entries, 0 to 47691\n",
      "Data columns (total 4 columns):\n",
      " #   Column              Non-Null Count  Dtype  \n",
      "---  ------              --------------  -----  \n",
      " 0   array               47692 non-null  object \n",
      " 1   cyberbullying_type  47692 non-null  object \n",
      " 2   Polarity            47692 non-null  float64\n",
      " 3   Subjectivity        47692 non-null  float64\n",
      "dtypes: float64(2), object(2)\n",
      "memory usage: 1.5+ MB\n"
     ]
    }
   ],
   "source": [
    "#Create a pipeline to make arrays\n",
    "Text_vect_A = Pipeline([\n",
    "('vect', CountVectorizer()),\n",
    "])\n",
    "\n",
    "X=CBFD['Clean_Text']\n",
    "\n",
    "y=CBFD['cyberbullying_type']\n",
    "\n",
    "#combine original data frame with array data frame\n",
    "Text_vect_A.fit(X, y)\n",
    "CBFDarrays=Text_vect_A.transform(X)\n",
    "CBFDarrays1 = pd.DataFrame(CBFDarrays, columns=['array'])\n",
    "CBFD1 = CBFD.drop(['tweet_text','Clean_Text'],axis=1)\n",
    "CBFD_concat = pd.concat([CBFDarrays1, CBFD1], axis=1)\n",
    "CBFD_concat.info()\n",
    "CBFD_concat.head(5)\n",
    "CBFD_concat.to_csv('TestData.csv')"
   ]
  },
  {
   "cell_type": "code",
   "execution_count": null,
   "id": "fc5323e7-a79c-4fa8-823d-f4dd856b2baf",
   "metadata": {},
   "outputs": [],
   "source": [
    "drop column in data frame python"
   ]
  },
  {
   "cell_type": "code",
   "execution_count": 31,
   "id": "6ecaf330-4608-4f79-acea-095b8739de93",
   "metadata": {},
   "outputs": [
    {
     "name": "stdout",
     "output_type": "stream",
     "text": [
      "['other_cyberbullying']\n"
     ]
    }
   ],
   "source": [
    "#test a tweet off the best model\n",
    "Xnew=[\"\"]\n",
    "ynew=text_clf.predict(Xnew)\n",
    "print(ynew)"
   ]
  },
  {
   "cell_type": "code",
   "execution_count": 39,
   "id": "2239b709-0836-4f53-ac49-a379995d6cb8",
   "metadata": {},
   "outputs": [
    {
     "name": "stdout",
     "output_type": "stream",
     "text": [
      "Train size:  31895 Test size:  7974\n",
      "Accuracy: 0.9246300476548783\n",
      "F1 score: 0.925953437509883\n",
      "                   precision    recall  f1-score   support\n",
      "\n",
      "              age       0.97      0.98      0.98      1527\n",
      "        ethnicity       0.97      0.97      0.97      1577\n",
      "           gender       0.93      0.84      0.89      1627\n",
      "not_cyberbullying       0.80      0.89      0.84      1610\n",
      "         religion       0.97      0.95      0.96      1633\n",
      "\n",
      "         accuracy                           0.92      7974\n",
      "        macro avg       0.93      0.93      0.93      7974\n",
      "     weighted avg       0.93      0.92      0.93      7974\n",
      "\n"
     ]
    },
    {
     "data": {
      "text/plain": [
       "array([[1503,    3,    2,   18,    1],\n",
       "       [   4, 1524,   10,   35,    4],\n",
       "       [   4,   14, 1374,  230,    5],\n",
       "       [  31,   20,   88, 1425,   46],\n",
       "       [   3,    3,    4,   76, 1547]], dtype=int64)"
      ]
     },
     "execution_count": 39,
     "metadata": {},
     "output_type": "execute_result"
    }
   ],
   "source": [
    "#support vector Machine\n",
    "text_clfN = Pipeline([\n",
    "('vect', CountVectorizer()),\n",
    "('clf', SGDClassifier()),\n",
    "])\n",
    "\n",
    "CBFD.drop(CBFD[CBFD['cyberbullying_type']=='other_cyberbullying'].index,inplace=True)\n",
    "\n",
    "X=CBFD['Clean_Text']\n",
    "\n",
    "y=CBFD['cyberbullying_type']\n",
    "\n",
    "X_train, X_test, y_train, y_test = train_test_split(\n",
    "    X, y, test_size=0.2, random_state=101)\n",
    "print('Train size: ', len(X_train), 'Test size: ', len(X_test))\n",
    "\n",
    "text_clfN.fit(X_train, y_train)\n",
    "y_pred2=text_clfN.predict(X_test)\n",
    "print('Accuracy:', accuracy_score(y_test, y_pred2))\n",
    "print('F1 score:', f1_score(y_test, y_pred2, average=\"macro\"))\n",
    "print(classification_report(y_test, y_pred2))\n",
    "confusion_matrix(y_test,y_pred2)"
   ]
  },
  {
   "cell_type": "code",
   "execution_count": 57,
   "id": "7eaae0a1-d216-4c9b-9562-74e68efcfbff",
   "metadata": {},
   "outputs": [
    {
     "name": "stdout",
     "output_type": "stream",
     "text": [
      "['not_cyberbullying']\n"
     ]
    }
   ],
   "source": [
    "#test a tweet off the best model\n",
    "Xnew=[\"\"]\n",
    "ynew=text_clfN.predict(Xnew)\n",
    "print(ynew)"
   ]
  },
  {
   "cell_type": "code",
   "execution_count": 58,
   "id": "bff7c537-f644-45bc-bbe8-a85d92aa129c",
   "metadata": {},
   "outputs": [
    {
     "name": "stdout",
     "output_type": "stream",
     "text": [
      "Train size:  31895 Test size:  7974\n",
      "Accuracy: 0.9079508402307499\n",
      "F1 score: 0.908876526150476\n",
      "                   precision    recall  f1-score   support\n",
      "\n",
      "              age       0.97      0.98      0.97      1527\n",
      "        ethnicity       0.98      0.97      0.97      1577\n",
      "           gender       0.85      0.87      0.86      1627\n",
      "not_cyberbullying       0.80      0.79      0.79      1610\n",
      "         religion       0.96      0.94      0.95      1633\n",
      "\n",
      "         accuracy                           0.91      7974\n",
      "        macro avg       0.91      0.91      0.91      7974\n",
      "     weighted avg       0.91      0.91      0.91      7974\n",
      "\n"
     ]
    },
    {
     "data": {
      "text/plain": [
       "array([[1494,    4,    2,   27,    0],\n",
       "       [   8, 1527,    7,   30,    5],\n",
       "       [   6,    9, 1408,  199,    5],\n",
       "       [  36,   19,  225, 1270,   60],\n",
       "       [   2,    6,   16,   68, 1541]], dtype=int64)"
      ]
     },
     "execution_count": 58,
     "metadata": {},
     "output_type": "execute_result"
    }
   ],
   "source": [
    "#Decision Tree Classifier\n",
    "DTC = Pipeline([\n",
    "('vect', CountVectorizer()),\n",
    "('clf',DecisionTreeClassifier()),\n",
    "])\n",
    "X=CBFD['Clean_Text']\n",
    "\n",
    "y=CBFD['cyberbullying_type']\n",
    "\n",
    "X_train, X_test, y_train, y_test = train_test_split(\n",
    "    X, y, test_size=0.2, random_state=101)\n",
    "print('Train size: ', len(X_train), 'Test size: ', len(X_test))\n",
    "\n",
    "DTC.fit(X_train, y_train)\n",
    "y_pred3=DTC.predict(X_test)\n",
    "print('Accuracy:', accuracy_score(y_test, y_pred3))\n",
    "print('F1 score:', f1_score(y_test, y_pred3, average=\"macro\"))\n",
    "print(classification_report(y_test, y_pred3))\n",
    "confusion_matrix(y_test,y_pred3)"
   ]
  },
  {
   "cell_type": "code",
   "execution_count": null,
   "id": "57862c6c-229c-4930-988f-1c79d46af3de",
   "metadata": {},
   "outputs": [],
   "source": []
  }
 ],
 "metadata": {
  "kernelspec": {
   "display_name": "Python 3 (ipykernel)",
   "language": "python",
   "name": "python3"
  },
  "language_info": {
   "codemirror_mode": {
    "name": "ipython",
    "version": 3
   },
   "file_extension": ".py",
   "mimetype": "text/x-python",
   "name": "python",
   "nbconvert_exporter": "python",
   "pygments_lexer": "ipython3",
   "version": "3.9.16"
  }
 },
 "nbformat": 4,
 "nbformat_minor": 5
}
